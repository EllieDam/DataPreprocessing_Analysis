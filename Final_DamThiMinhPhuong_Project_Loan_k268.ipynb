{
 "cells": [
  {
   "cell_type": "markdown",
   "metadata": {
    "button": false,
    "id": "kxWQbPa80c_M",
    "new_sheet": false,
    "run_control": {
     "read_only": false
    }
   },
   "source": [
    "<a href=\"https://www.bigdatauniversity.com\"><img src=\"https://ibm.box.com/shared/static/cw2c7r3o20w9zn8gkecaeyjhgw3xdgbj.png\" width=\"400\" align=\"center\"></a>\n",
    "\n",
    "<h1 align=\"center\"><font size=\"5\">Project: Whether a loan is paid off</font></h1>\n",
    "<h2 align=\"center\"><font size=\"5\">From 13h30 To 17h30 - 29/08/2021</font></h2>\n",
    "<h3 align=\"center\"><font size=\"5\"> Total marks: 3.0</font></h3>"
   ]
  },
  {
   "cell_type": "markdown",
   "metadata": {
    "id": "zeEVefU10c_U"
   },
   "source": [
    "### Your information:\n",
    "- Fullname: Đàm Thị Minh Phượng \n",
    "- Date of birth: 27/05/1990\n",
    "- Place of birth: HoChiMinh City\n",
    "- Email: minhphuong.dam@gmail.com\n",
    "- Mobile phone: 0903222123"
   ]
  },
  {
   "cell_type": "markdown",
   "metadata": {
    "button": false,
    "id": "bzZNxsCA0c_U",
    "new_sheet": false,
    "run_control": {
     "read_only": false
    }
   },
   "source": [
    "In this notebook, we practice all the knowledge and skills that we learned in this course (LDS5: Data pre-processing and analysis)\n",
    "\n",
    "We apply the **Logistic Regression Algorithm** to predict: **\"Whether a loan is paid off on in collection\"** by accuracy evaluation methods.\n",
    "\n",
    "Lets first load required libraries:"
   ]
  },
  {
   "cell_type": "code",
   "execution_count": 105,
   "metadata": {
    "button": false,
    "id": "hc-hDdYL0c_V",
    "new_sheet": false,
    "run_control": {
     "read_only": false
    }
   },
   "outputs": [],
   "source": [
    "#import itertools\n",
    "import numpy as np\n",
    "import matplotlib.pyplot as plt\n",
    "from matplotlib.ticker import NullFormatter\n",
    "import pandas as pd\n",
    "import numpy as np\n",
    "import matplotlib.ticker as ticker\n",
    "from sklearn import preprocessing\n",
    "%matplotlib inline\n",
    "import seaborn as sns"
   ]
  },
  {
   "cell_type": "code",
   "execution_count": 106,
   "metadata": {},
   "outputs": [],
   "source": [
    "import warnings\n",
    "warnings.filterwarnings('ignore')"
   ]
  },
  {
   "cell_type": "markdown",
   "metadata": {
    "button": false,
    "id": "f-4euud90c_V",
    "new_sheet": false,
    "run_control": {
     "read_only": false
    }
   },
   "source": [
    "### About dataset"
   ]
  },
  {
   "cell_type": "markdown",
   "metadata": {
    "button": false,
    "id": "_esgoMPK0c_W",
    "new_sheet": false,
    "run_control": {
     "read_only": false
    }
   },
   "source": [
    "This dataset is about past loans. The __loan_train.csv__ data set includes details of 346 customers whose loan are already paid off or defaulted. It includes following fields:\n",
    "\n",
    "| Field          | Description                                                                           |\n",
    "|----------------|---------------------------------------------------------------------------------------|\n",
    "| Loan_status    | Whether a loan is paid off on in collection                                           |\n",
    "| Principal      | Basic principal loan amount at the                                                    |\n",
    "| Terms          | Origination terms which can be weekly (7 days), biweekly, and monthly payoff schedule |\n",
    "| Effective_date | When the loan got originated and took effects                                         |\n",
    "| Due_date       | Since it’s one-time payoff schedule, each loan has one single due date                |\n",
    "| Age            | Age of applicant                                                                      |\n",
    "| Education      | Education of applicant                                                                |\n",
    "| Gender         | The gender of applicant                                                               |"
   ]
  },
  {
   "cell_type": "markdown",
   "metadata": {
    "id": "2sxjN8vS0c_W"
   },
   "source": [
    "# Data exploration"
   ]
  },
  {
   "cell_type": "markdown",
   "metadata": {
    "id": "5iobjcyk0c_X"
   },
   "source": [
    "### *** To predict \"Whether a loan is paid off\", we need some fields: 'Principal', 'Terms', 'Age', 'Gender', 'Effective_date' "
   ]
  },
  {
   "cell_type": "markdown",
   "metadata": {
    "button": false,
    "id": "aDovus0t0c_X",
    "new_sheet": false,
    "run_control": {
     "read_only": false
    }
   },
   "source": [
    "### Load Data From CSV File  "
   ]
  },
  {
   "cell_type": "code",
   "execution_count": 107,
   "metadata": {
    "id": "o8XV8Vbi0c_X"
   },
   "outputs": [],
   "source": [
    "# Read CSV file: loan_train.csv\n",
    "cols_name = ['loan_status','Principal','terms','effective_date','due_date','age','education','Gender']\n",
    "df = pd.read_csv('loan_train.csv', usecols=cols_name)"
   ]
  },
  {
   "cell_type": "code",
   "execution_count": 108,
   "metadata": {},
   "outputs": [
    {
     "data": {
      "text/plain": [
       "(346, 8)"
      ]
     },
     "execution_count": 108,
     "metadata": {},
     "output_type": "execute_result"
    }
   ],
   "source": [
    "# Understanding to dataset\n",
    "df.shape"
   ]
  },
  {
   "cell_type": "code",
   "execution_count": 109,
   "metadata": {},
   "outputs": [
    {
     "name": "stdout",
     "output_type": "stream",
     "text": [
      "<class 'pandas.core.frame.DataFrame'>\n",
      "RangeIndex: 346 entries, 0 to 345\n",
      "Data columns (total 8 columns):\n",
      " #   Column          Non-Null Count  Dtype \n",
      "---  ------          --------------  ----- \n",
      " 0   loan_status     346 non-null    object\n",
      " 1   Principal       346 non-null    int64 \n",
      " 2   terms           346 non-null    int64 \n",
      " 3   effective_date  346 non-null    object\n",
      " 4   due_date        346 non-null    object\n",
      " 5   age             346 non-null    int64 \n",
      " 6   education       346 non-null    object\n",
      " 7   Gender          346 non-null    object\n",
      "dtypes: int64(3), object(5)\n",
      "memory usage: 21.8+ KB\n"
     ]
    }
   ],
   "source": [
    "df.info()"
   ]
  },
  {
   "cell_type": "code",
   "execution_count": 110,
   "metadata": {},
   "outputs": [
    {
     "data": {
      "text/html": [
       "<div>\n",
       "<style scoped>\n",
       "    .dataframe tbody tr th:only-of-type {\n",
       "        vertical-align: middle;\n",
       "    }\n",
       "\n",
       "    .dataframe tbody tr th {\n",
       "        vertical-align: top;\n",
       "    }\n",
       "\n",
       "    .dataframe thead th {\n",
       "        text-align: right;\n",
       "    }\n",
       "</style>\n",
       "<table border=\"1\" class=\"dataframe\">\n",
       "  <thead>\n",
       "    <tr style=\"text-align: right;\">\n",
       "      <th></th>\n",
       "      <th>loan_status</th>\n",
       "      <th>Principal</th>\n",
       "      <th>terms</th>\n",
       "      <th>effective_date</th>\n",
       "      <th>due_date</th>\n",
       "      <th>age</th>\n",
       "      <th>education</th>\n",
       "      <th>Gender</th>\n",
       "    </tr>\n",
       "  </thead>\n",
       "  <tbody>\n",
       "    <tr>\n",
       "      <th>341</th>\n",
       "      <td>COLLECTION</td>\n",
       "      <td>800</td>\n",
       "      <td>15</td>\n",
       "      <td>9/11/2016</td>\n",
       "      <td>9/25/2016</td>\n",
       "      <td>32</td>\n",
       "      <td>High School or Below</td>\n",
       "      <td>male</td>\n",
       "    </tr>\n",
       "    <tr>\n",
       "      <th>342</th>\n",
       "      <td>COLLECTION</td>\n",
       "      <td>1000</td>\n",
       "      <td>30</td>\n",
       "      <td>9/11/2016</td>\n",
       "      <td>10/10/2016</td>\n",
       "      <td>25</td>\n",
       "      <td>High School or Below</td>\n",
       "      <td>male</td>\n",
       "    </tr>\n",
       "    <tr>\n",
       "      <th>343</th>\n",
       "      <td>COLLECTION</td>\n",
       "      <td>800</td>\n",
       "      <td>15</td>\n",
       "      <td>9/12/2016</td>\n",
       "      <td>9/26/2016</td>\n",
       "      <td>39</td>\n",
       "      <td>college</td>\n",
       "      <td>male</td>\n",
       "    </tr>\n",
       "    <tr>\n",
       "      <th>344</th>\n",
       "      <td>COLLECTION</td>\n",
       "      <td>1000</td>\n",
       "      <td>30</td>\n",
       "      <td>9/12/2016</td>\n",
       "      <td>11/10/2016</td>\n",
       "      <td>28</td>\n",
       "      <td>college</td>\n",
       "      <td>male</td>\n",
       "    </tr>\n",
       "    <tr>\n",
       "      <th>345</th>\n",
       "      <td>COLLECTION</td>\n",
       "      <td>1000</td>\n",
       "      <td>30</td>\n",
       "      <td>9/12/2016</td>\n",
       "      <td>10/11/2016</td>\n",
       "      <td>26</td>\n",
       "      <td>college</td>\n",
       "      <td>male</td>\n",
       "    </tr>\n",
       "  </tbody>\n",
       "</table>\n",
       "</div>"
      ],
      "text/plain": [
       "    loan_status  Principal  terms effective_date    due_date  age  \\\n",
       "341  COLLECTION        800     15      9/11/2016   9/25/2016   32   \n",
       "342  COLLECTION       1000     30      9/11/2016  10/10/2016   25   \n",
       "343  COLLECTION        800     15      9/12/2016   9/26/2016   39   \n",
       "344  COLLECTION       1000     30      9/12/2016  11/10/2016   28   \n",
       "345  COLLECTION       1000     30      9/12/2016  10/11/2016   26   \n",
       "\n",
       "                education Gender  \n",
       "341  High School or Below   male  \n",
       "342  High School or Below   male  \n",
       "343               college   male  \n",
       "344               college   male  \n",
       "345               college   male  "
      ]
     },
     "execution_count": 110,
     "metadata": {},
     "output_type": "execute_result"
    }
   ],
   "source": [
    "df.tail()"
   ]
  },
  {
   "cell_type": "code",
   "execution_count": 111,
   "metadata": {
    "id": "uRrty1Z30c_X"
   },
   "outputs": [
    {
     "data": {
      "text/html": [
       "<div>\n",
       "<style scoped>\n",
       "    .dataframe tbody tr th:only-of-type {\n",
       "        vertical-align: middle;\n",
       "    }\n",
       "\n",
       "    .dataframe tbody tr th {\n",
       "        vertical-align: top;\n",
       "    }\n",
       "\n",
       "    .dataframe thead th {\n",
       "        text-align: right;\n",
       "    }\n",
       "</style>\n",
       "<table border=\"1\" class=\"dataframe\">\n",
       "  <thead>\n",
       "    <tr style=\"text-align: right;\">\n",
       "      <th></th>\n",
       "      <th>Principal</th>\n",
       "      <th>terms</th>\n",
       "      <th>age</th>\n",
       "    </tr>\n",
       "  </thead>\n",
       "  <tbody>\n",
       "    <tr>\n",
       "      <th>count</th>\n",
       "      <td>346.000000</td>\n",
       "      <td>346.000000</td>\n",
       "      <td>346.000000</td>\n",
       "    </tr>\n",
       "    <tr>\n",
       "      <th>mean</th>\n",
       "      <td>943.641618</td>\n",
       "      <td>22.653179</td>\n",
       "      <td>30.939306</td>\n",
       "    </tr>\n",
       "    <tr>\n",
       "      <th>std</th>\n",
       "      <td>109.425530</td>\n",
       "      <td>7.991006</td>\n",
       "      <td>6.039418</td>\n",
       "    </tr>\n",
       "    <tr>\n",
       "      <th>min</th>\n",
       "      <td>300.000000</td>\n",
       "      <td>7.000000</td>\n",
       "      <td>18.000000</td>\n",
       "    </tr>\n",
       "    <tr>\n",
       "      <th>25%</th>\n",
       "      <td>900.000000</td>\n",
       "      <td>15.000000</td>\n",
       "      <td>27.000000</td>\n",
       "    </tr>\n",
       "    <tr>\n",
       "      <th>50%</th>\n",
       "      <td>1000.000000</td>\n",
       "      <td>30.000000</td>\n",
       "      <td>30.000000</td>\n",
       "    </tr>\n",
       "    <tr>\n",
       "      <th>75%</th>\n",
       "      <td>1000.000000</td>\n",
       "      <td>30.000000</td>\n",
       "      <td>35.000000</td>\n",
       "    </tr>\n",
       "    <tr>\n",
       "      <th>max</th>\n",
       "      <td>1000.000000</td>\n",
       "      <td>30.000000</td>\n",
       "      <td>51.000000</td>\n",
       "    </tr>\n",
       "  </tbody>\n",
       "</table>\n",
       "</div>"
      ],
      "text/plain": [
       "         Principal       terms         age\n",
       "count   346.000000  346.000000  346.000000\n",
       "mean    943.641618   22.653179   30.939306\n",
       "std     109.425530    7.991006    6.039418\n",
       "min     300.000000    7.000000   18.000000\n",
       "25%     900.000000   15.000000   27.000000\n",
       "50%    1000.000000   30.000000   30.000000\n",
       "75%    1000.000000   30.000000   35.000000\n",
       "max    1000.000000   30.000000   51.000000"
      ]
     },
     "execution_count": 111,
     "metadata": {},
     "output_type": "execute_result"
    }
   ],
   "source": [
    "df.describe()"
   ]
  },
  {
   "cell_type": "markdown",
   "metadata": {},
   "source": [
    "### Identify Variables"
   ]
  },
  {
   "cell_type": "code",
   "execution_count": 112,
   "metadata": {},
   "outputs": [],
   "source": [
    "inputs = ['Principal','terms','effective_date','due_date','age','education','Gender']\n",
    "output = ['loan_status']"
   ]
  },
  {
   "cell_type": "code",
   "execution_count": 113,
   "metadata": {},
   "outputs": [
    {
     "name": "stdout",
     "output_type": "stream",
     "text": [
      "1 / loan_status \t 2 ['PAIDOFF' 'COLLECTION']\n",
      "2 / Principal \t 5 [1000  800  300  900  500]\n",
      "3 / terms \t 3 [30 15  7]\n",
      "4 / effective_date \t 7 ['9/8/2016' '9/9/2016' '9/10/2016' '9/11/2016' '9/12/2016' '9/13/2016'\n",
      " '9/14/2016']\n",
      "5 / due_date \t 23 ['10/7/2016' '9/22/2016' '10/8/2016' '9/24/2016' '9/16/2016' '10/9/2016'\n",
      " '10/10/2016' '9/25/2016' '9/17/2016' '11/9/2016' '10/25/2016' '9/26/2016'\n",
      " '10/11/2016' '11/10/2016' '9/18/2016' '10/26/2016' '9/19/2016'\n",
      " '10/12/2016' '9/27/2016' '9/28/2016' '10/13/2016' '11/12/2016'\n",
      " '9/23/2016']\n",
      "6 / age \t 32 \n",
      "7 / education \t 4 ['High School or Below' 'Bechalor' 'college' 'Master or Above']\n",
      "8 / Gender \t 2 ['male' 'female']\n"
     ]
    }
   ],
   "source": [
    "i = 1\n",
    "for var in df.columns:\n",
    "    print(i,'/', var, '\\t', len(df[var].unique()),df[var].unique() if len(df[var].unique())<25 else '')\n",
    "    i += 1"
   ]
  },
  {
   "cell_type": "code",
   "execution_count": 114,
   "metadata": {},
   "outputs": [],
   "source": [
    "cat_var = ['loan_status','Principal','terms','effective_date','due_date','education','Gender']\n",
    "num_var = ['age']"
   ]
  },
  {
   "cell_type": "markdown",
   "metadata": {},
   "source": [
    "### Univariate Analysis"
   ]
  },
  {
   "cell_type": "code",
   "execution_count": 115,
   "metadata": {
    "scrolled": true
   },
   "outputs": [],
   "source": [
    "# NUMBER VARIABLE\n",
    "def univariate_cont_analysis(var,df):\n",
    "    mean = df[var].mean()\n",
    "    median = df[var].median() \n",
    "    mode = df[var].mode()\n",
    "    max_val = df[var].max()\n",
    "    min_val = df[var].min()\n",
    "    range_val = np.ptp(df[var])\n",
    "    variance = df[var].var()\n",
    "    skewness = df[var].skew()\n",
    "    kurtosis = df[var].kurtosis()\n",
    "    result = [mean,median,mode,max_val,min_val,range_val,variance,skewness,kurtosis]\n",
    "    return result"
   ]
  },
  {
   "cell_type": "code",
   "execution_count": 116,
   "metadata": {},
   "outputs": [
    {
     "data": {
      "text/html": [
       "<div>\n",
       "<style scoped>\n",
       "    .dataframe tbody tr th:only-of-type {\n",
       "        vertical-align: middle;\n",
       "    }\n",
       "\n",
       "    .dataframe tbody tr th {\n",
       "        vertical-align: top;\n",
       "    }\n",
       "\n",
       "    .dataframe thead th {\n",
       "        text-align: right;\n",
       "    }\n",
       "</style>\n",
       "<table border=\"1\" class=\"dataframe\">\n",
       "  <thead>\n",
       "    <tr style=\"text-align: right;\">\n",
       "      <th></th>\n",
       "      <th>mean</th>\n",
       "      <th>median</th>\n",
       "      <th>mode</th>\n",
       "      <th>max_val</th>\n",
       "      <th>min_val</th>\n",
       "      <th>range_val</th>\n",
       "      <th>variance</th>\n",
       "      <th>skewness</th>\n",
       "      <th>kurtosis</th>\n",
       "    </tr>\n",
       "  </thead>\n",
       "  <tbody>\n",
       "    <tr>\n",
       "      <th>age</th>\n",
       "      <td>30.9393</td>\n",
       "      <td>30</td>\n",
       "      <td>0    26\n",
       "dtype: int64</td>\n",
       "      <td>51</td>\n",
       "      <td>18</td>\n",
       "      <td>33</td>\n",
       "      <td>36.4746</td>\n",
       "      <td>0.70041</td>\n",
       "      <td>0.481063</td>\n",
       "    </tr>\n",
       "  </tbody>\n",
       "</table>\n",
       "</div>"
      ],
      "text/plain": [
       "        mean median                  mode max_val min_val range_val variance  \\\n",
       "age  30.9393     30  0    26\n",
       "dtype: int64      51      18        33  36.4746   \n",
       "\n",
       "    skewness  kurtosis  \n",
       "age  0.70041  0.481063  "
      ]
     },
     "execution_count": 116,
     "metadata": {},
     "output_type": "execute_result"
    }
   ],
   "source": [
    "result = univariate_cont_analysis('age',df)\n",
    "df_result = pd.DataFrame(result,index=['mean','median','mode','max_val','min_val','range_val','variance','skewness','kurtosis'],\n",
    "                  columns=num_var)\n",
    "df_result.T"
   ]
  },
  {
   "cell_type": "code",
   "execution_count": 117,
   "metadata": {},
   "outputs": [
    {
     "data": {
      "image/png": "[encoded data removed]",
      "text/plain": [
       "<Figure size 720x360 with 2 Axes>"
      ]
     },
     "metadata": {
      "needs_background": "light"
     },
     "output_type": "display_data"
    }
   ],
   "source": [
    "#Visualization - Histogram & boxplot\n",
    "plt.figure(figsize=(10,5))\n",
    "plt.subplot(121)\n",
    "sns.distplot(df['age'])\n",
    "plt.subplot(122)\n",
    "plt.boxplot(df['age'])\n",
    "plt.show()"
   ]
  },
  {
   "cell_type": "markdown",
   "metadata": {},
   "source": [
    "### Nhận xét:\n",
    "- Biến 'age' có phân phối lệch phải, variance không lớn\n",
    "- Biến 'age' có upper outliers"
   ]
  },
  {
   "cell_type": "code",
   "execution_count": 118,
   "metadata": {},
   "outputs": [],
   "source": [
    "# CATEGORICAL VARIABLE\n",
    "# cat_var = ['loan_status','Principal','terms','effective_date','due_date','education','Gender']"
   ]
  },
  {
   "cell_type": "code",
   "execution_count": 119,
   "metadata": {},
   "outputs": [
    {
     "data": {
      "image/png": "[encoded data removed]",
      "text/plain": [
       "<Figure size 1440x864 with 7 Axes>"
      ]
     },
     "metadata": {
      "needs_background": "light"
     },
     "output_type": "display_data"
    }
   ],
   "source": [
    "plt.figure(figsize=(20,12))\n",
    "for i in range (1,len(cat_var)+1):\n",
    "    count = df.groupby(df[cat_var[i-1]]).size()\n",
    "    #print(count)\n",
    "    plt.subplot(2,4,i)\n",
    "    count.plot.bar()\n",
    "plt.tight_layout()\n",
    "plt.show()"
   ]
  },
  {
   "cell_type": "markdown",
   "metadata": {},
   "source": [
    "### Nhận xét:\n",
    "- Có sự khác biệt giữa các phân loại của mỗi biến (biến phân loại có ý nghĩa)"
   ]
  },
  {
   "cell_type": "markdown",
   "metadata": {},
   "source": [
    "### Bi-variate Analysis"
   ]
  },
  {
   "cell_type": "code",
   "execution_count": 120,
   "metadata": {},
   "outputs": [],
   "source": [
    "# CONTINUOUS - 'loan_status'"
   ]
  },
  {
   "cell_type": "code",
   "execution_count": 121,
   "metadata": {},
   "outputs": [
    {
     "data": {
      "image/png": "[encoded data removed]",
      "text/plain": [
       "<Figure size 360x360 with 1 Axes>"
      ]
     },
     "metadata": {
      "needs_background": "light"
     },
     "output_type": "display_data"
    }
   ],
   "source": [
    "plt.figure(figsize=(5,5))\n",
    "df_melt = df[['age','loan_status']]\n",
    "sns.boxplot(data=df_melt,x='loan_status',y='age' )\n",
    "plt.show()"
   ]
  },
  {
   "cell_type": "markdown",
   "metadata": {},
   "source": [
    "### Nhận xét:\n",
    "- có thể nhận xét 'age' và 'loan_status' không phụ thuộc hoặc phụ thuộc rất ít \n",
    "- Dùng Anova test để kiểm tra"
   ]
  },
  {
   "cell_type": "code",
   "execution_count": 122,
   "metadata": {},
   "outputs": [
    {
     "data": {
      "text/html": [
       "<div>\n",
       "<style scoped>\n",
       "    .dataframe tbody tr th:only-of-type {\n",
       "        vertical-align: middle;\n",
       "    }\n",
       "\n",
       "    .dataframe tbody tr th {\n",
       "        vertical-align: top;\n",
       "    }\n",
       "\n",
       "    .dataframe thead th {\n",
       "        text-align: right;\n",
       "    }\n",
       "</style>\n",
       "<table border=\"1\" class=\"dataframe\">\n",
       "  <thead>\n",
       "    <tr style=\"text-align: right;\">\n",
       "      <th></th>\n",
       "      <th>sum_sq</th>\n",
       "      <th>df</th>\n",
       "      <th>F</th>\n",
       "      <th>PR(&gt;F)</th>\n",
       "    </tr>\n",
       "  </thead>\n",
       "  <tbody>\n",
       "    <tr>\n",
       "      <th>C(loan_status)</th>\n",
       "      <td>9.502088</td>\n",
       "      <td>1.0</td>\n",
       "      <td>0.259954</td>\n",
       "      <td>0.610479</td>\n",
       "    </tr>\n",
       "    <tr>\n",
       "      <th>Residual</th>\n",
       "      <td>12574.223345</td>\n",
       "      <td>344.0</td>\n",
       "      <td>NaN</td>\n",
       "      <td>NaN</td>\n",
       "    </tr>\n",
       "  </tbody>\n",
       "</table>\n",
       "</div>"
      ],
      "text/plain": [
       "                      sum_sq     df         F    PR(>F)\n",
       "C(loan_status)      9.502088    1.0  0.259954  0.610479\n",
       "Residual        12574.223345  344.0       NaN       NaN"
      ]
     },
     "metadata": {},
     "output_type": "display_data"
    },
    {
     "name": "stdout",
     "output_type": "stream",
     "text": [
      "Gender p-value: 0.610478777694581\n",
      "==> Independent (Fail to Reject H0)\n"
     ]
    }
   ],
   "source": [
    "#Anova Test \n",
    "import statsmodels.api as sm\n",
    "from statsmodels.formula.api import ols\n",
    "model = ols('age ~ C(loan_status)', df).fit()\n",
    "anova_table = sm.stats.anova_lm(model, typ=2)\n",
    "display(anova_table)\n",
    "if anova_table['PR(>F)'][0] < 0.05:\n",
    "    print(var,'p-value:',anova_table['PR(>F)'][0])\n",
    "    print('==> Dependent (Reject H0)')\n",
    "else: \n",
    "    print(var,'p-value:',anova_table['PR(>F)'][0])\n",
    "    print('==> Independent (Fail to Reject H0)')"
   ]
  },
  {
   "cell_type": "markdown",
   "metadata": {},
   "source": [
    "### Nhận xét:\n",
    "- 'age' độc lập với 'loan_status'"
   ]
  },
  {
   "cell_type": "code",
   "execution_count": 123,
   "metadata": {},
   "outputs": [],
   "source": [
    "# CATEGORICAL - 'loan_status'"
   ]
  },
  {
   "cell_type": "code",
   "execution_count": 124,
   "metadata": {},
   "outputs": [
    {
     "data": {
      "image/png": "[encoded data removed]",
      "text/plain": [
       "<Figure size 1440x1152 with 6 Axes>"
      ]
     },
     "metadata": {
      "needs_background": "light"
     },
     "output_type": "display_data"
    }
   ],
   "source": [
    "cat_inputs = ['Principal','terms','effective_date','due_date','education','Gender']\n",
    "fig = plt.figure(figsize=(20,16))\n",
    "for i in range(1,len(cat_inputs)+1):\n",
    "    ax = fig.add_subplot(3,3,i)\n",
    "    table = pd.crosstab(df[cat_inputs[i-1]], df['loan_status']).reset_index()\n",
    "    ax.bar(table[cat_inputs[i-1]].astype(str), table['COLLECTION'], color='g',label='COLLECTION')\n",
    "    ax.bar(table[cat_inputs[i-1]].astype(str), table['PAIDOFF'], bottom=table['COLLECTION'], color='m',label='PAIDOFF')\n",
    "    plt.xticks(rotation= 45)\n",
    "    plt.legend()\n",
    "    plt.xlabel(cat_inputs[i-1])\n",
    "    plt.ylabel('loan_status')\n",
    "plt.tight_layout()\n",
    "plt.show()"
   ]
  },
  {
   "cell_type": "code",
   "execution_count": 125,
   "metadata": {},
   "outputs": [],
   "source": [
    "#Chi-square Test: H0 - Independent\n",
    "from scipy.stats import chi2_contingency, chi2\n",
    "chi2_test_df=pd.DataFrame(index=cat_var,columns=cat_var)\n",
    "#chi2_test_df"
   ]
  },
  {
   "cell_type": "code",
   "execution_count": 126,
   "metadata": {},
   "outputs": [
    {
     "data": {
      "text/html": [
       "<div>\n",
       "<style scoped>\n",
       "    .dataframe tbody tr th:only-of-type {\n",
       "        vertical-align: middle;\n",
       "    }\n",
       "\n",
       "    .dataframe tbody tr th {\n",
       "        vertical-align: top;\n",
       "    }\n",
       "\n",
       "    .dataframe thead th {\n",
       "        text-align: right;\n",
       "    }\n",
       "</style>\n",
       "<table border=\"1\" class=\"dataframe\">\n",
       "  <thead>\n",
       "    <tr style=\"text-align: right;\">\n",
       "      <th></th>\n",
       "      <th>loan_status</th>\n",
       "      <th>Principal</th>\n",
       "      <th>terms</th>\n",
       "      <th>effective_date</th>\n",
       "      <th>due_date</th>\n",
       "      <th>education</th>\n",
       "      <th>Gender</th>\n",
       "    </tr>\n",
       "  </thead>\n",
       "  <tbody>\n",
       "    <tr>\n",
       "      <th>loan_status</th>\n",
       "      <td>NaN</td>\n",
       "      <td>Independent</td>\n",
       "      <td>Dependent</td>\n",
       "      <td>Dependent</td>\n",
       "      <td>Dependent</td>\n",
       "      <td>Independent</td>\n",
       "      <td>Independent</td>\n",
       "    </tr>\n",
       "    <tr>\n",
       "      <th>Principal</th>\n",
       "      <td>NaN</td>\n",
       "      <td>NaN</td>\n",
       "      <td>Dependent</td>\n",
       "      <td>Independent</td>\n",
       "      <td>Dependent</td>\n",
       "      <td>Independent</td>\n",
       "      <td>Independent</td>\n",
       "    </tr>\n",
       "    <tr>\n",
       "      <th>terms</th>\n",
       "      <td>NaN</td>\n",
       "      <td>NaN</td>\n",
       "      <td>NaN</td>\n",
       "      <td>Independent</td>\n",
       "      <td>Dependent</td>\n",
       "      <td>Independent</td>\n",
       "      <td>Independent</td>\n",
       "    </tr>\n",
       "    <tr>\n",
       "      <th>effective_date</th>\n",
       "      <td>NaN</td>\n",
       "      <td>NaN</td>\n",
       "      <td>NaN</td>\n",
       "      <td>NaN</td>\n",
       "      <td>Dependent</td>\n",
       "      <td>Independent</td>\n",
       "      <td>Independent</td>\n",
       "    </tr>\n",
       "    <tr>\n",
       "      <th>due_date</th>\n",
       "      <td>NaN</td>\n",
       "      <td>NaN</td>\n",
       "      <td>NaN</td>\n",
       "      <td>NaN</td>\n",
       "      <td>NaN</td>\n",
       "      <td>Independent</td>\n",
       "      <td>Independent</td>\n",
       "    </tr>\n",
       "    <tr>\n",
       "      <th>education</th>\n",
       "      <td>NaN</td>\n",
       "      <td>NaN</td>\n",
       "      <td>NaN</td>\n",
       "      <td>NaN</td>\n",
       "      <td>NaN</td>\n",
       "      <td>NaN</td>\n",
       "      <td>Independent</td>\n",
       "    </tr>\n",
       "    <tr>\n",
       "      <th>Gender</th>\n",
       "      <td>NaN</td>\n",
       "      <td>NaN</td>\n",
       "      <td>NaN</td>\n",
       "      <td>NaN</td>\n",
       "      <td>NaN</td>\n",
       "      <td>NaN</td>\n",
       "      <td>NaN</td>\n",
       "    </tr>\n",
       "  </tbody>\n",
       "</table>\n",
       "</div>"
      ],
      "text/plain": [
       "               loan_status    Principal      terms effective_date   due_date  \\\n",
       "loan_status            NaN  Independent  Dependent      Dependent  Dependent   \n",
       "Principal              NaN          NaN  Dependent    Independent  Dependent   \n",
       "terms                  NaN          NaN        NaN    Independent  Dependent   \n",
       "effective_date         NaN          NaN        NaN            NaN  Dependent   \n",
       "due_date               NaN          NaN        NaN            NaN        NaN   \n",
       "education              NaN          NaN        NaN            NaN        NaN   \n",
       "Gender                 NaN          NaN        NaN            NaN        NaN   \n",
       "\n",
       "                  education       Gender  \n",
       "loan_status     Independent  Independent  \n",
       "Principal       Independent  Independent  \n",
       "terms           Independent  Independent  \n",
       "effective_date  Independent  Independent  \n",
       "due_date        Independent  Independent  \n",
       "education               NaN  Independent  \n",
       "Gender                  NaN          NaN  "
      ]
     },
     "execution_count": 126,
     "metadata": {},
     "output_type": "execute_result"
    }
   ],
   "source": [
    "alpha = 0.05\n",
    "for i in range (len(cat_var)):\n",
    "    for j in range(i+1,len(cat_var)):\n",
    "        table = pd.crosstab(df[cat_var[i]],df[cat_var[j]])\n",
    "        stat, p, dof, expected = chi2_contingency(table)\n",
    "        #print('\\n*** significance = %.3f, p_value = %.3f' %(alpha,p))\n",
    "        if p < alpha:\n",
    "            #print(dependent_cat_list[i],'&',dependent_cat_list[j],'==> Dependent (Reject H0)')\n",
    "            chi2_test_df.loc[cat_var[i],cat_var[j]]='Dependent'\n",
    "        else:\n",
    "            #print(dependent_cat_list[i],'&',dependent_cat_list[j],'==> Independent (Fail to Reject H0)')\n",
    "            chi2_test_df.loc[cat_var[i],cat_var[j]]='Independent'\n",
    "chi2_test_df"
   ]
  },
  {
   "cell_type": "markdown",
   "metadata": {},
   "source": [
    "### Nhận xét:\n",
    "- 'terms', 'effective_date', 'due_date' phụ thuộc với 'loan_status'"
   ]
  },
  {
   "cell_type": "markdown",
   "metadata": {},
   "source": [
    "### Handle the Missing Values"
   ]
  },
  {
   "cell_type": "code",
   "execution_count": 127,
   "metadata": {
    "id": "00CTbWM60c_Y"
   },
   "outputs": [
    {
     "data": {
      "text/plain": [
       "loan_status       0\n",
       "Principal         0\n",
       "terms             0\n",
       "effective_date    0\n",
       "due_date          0\n",
       "age               0\n",
       "education         0\n",
       "Gender            0\n",
       "dtype: int64"
      ]
     },
     "execution_count": 127,
     "metadata": {},
     "output_type": "execute_result"
    }
   ],
   "source": [
    "df.isnull().sum()        # không có giá trị null"
   ]
  },
  {
   "cell_type": "markdown",
   "metadata": {},
   "source": [
    "### Handle Outlier Values"
   ]
  },
  {
   "cell_type": "code",
   "execution_count": 128,
   "metadata": {},
   "outputs": [
    {
     "data": {
      "text/plain": [
       "41     50\n",
       "184    50\n",
       "223    51\n",
       "293    50\n",
       "Name: age, dtype: int64"
      ]
     },
     "execution_count": 128,
     "metadata": {},
     "output_type": "execute_result"
    }
   ],
   "source": [
    "import scipy\n",
    "upper_outliers = df['age'][df['age'] > (np.quantile(df['age'],0.75) + 1.5*scipy.stats.iqr(df['age']))]\n",
    "upper_outliers"
   ]
  },
  {
   "cell_type": "markdown",
   "metadata": {},
   "source": [
    "### Nhận xét:\n",
    "- Các outliers 'age' đều valid => không loại bỏ outliers"
   ]
  },
  {
   "cell_type": "markdown",
   "metadata": {
    "button": false,
    "id": "hVAkuvjz0c_Y",
    "new_sheet": false,
    "run_control": {
     "read_only": false
    }
   },
   "source": [
    "### Convert 'due_date', 'effective_date' to date time object "
   ]
  },
  {
   "cell_type": "code",
   "execution_count": 129,
   "metadata": {},
   "outputs": [],
   "source": [
    "def convert_to_datetime(var,df):\n",
    "    df[var] = pd.to_datetime(df[var], format='%m/%d/%Y')\n",
    "for var in ['due_date','effective_date']:\n",
    "    convert_to_datetime(var,df)    "
   ]
  },
  {
   "cell_type": "code",
   "execution_count": 130,
   "metadata": {
    "scrolled": true
   },
   "outputs": [],
   "source": [
    "#df.head()"
   ]
  },
  {
   "cell_type": "code",
   "execution_count": 131,
   "metadata": {
    "id": "9jwbANCf0c_Y"
   },
   "outputs": [],
   "source": [
    "#df.info()"
   ]
  },
  {
   "cell_type": "markdown",
   "metadata": {
    "button": false,
    "id": "UdPFCAUU0c_Y",
    "new_sheet": false,
    "run_control": {
     "read_only": false
    }
   },
   "source": [
    "# Data visualization"
   ]
  },
  {
   "cell_type": "markdown",
   "metadata": {
    "button": false,
    "id": "v6FciuuB0c_Z",
    "new_sheet": false,
    "run_control": {
     "read_only": false
    }
   },
   "source": [
    "How many sample of each class is in our data set?"
   ]
  },
  {
   "cell_type": "code",
   "execution_count": 132,
   "metadata": {
    "button": false,
    "id": "yxv2LKmg0c_Z",
    "new_sheet": false,
    "run_control": {
     "read_only": false
    }
   },
   "outputs": [
    {
     "data": {
      "text/plain": [
       "PAIDOFF       260\n",
       "COLLECTION     86\n",
       "Name: loan_status, dtype: int64"
      ]
     },
     "execution_count": 132,
     "metadata": {},
     "output_type": "execute_result"
    }
   ],
   "source": [
    "df['loan_status'].value_counts()"
   ]
  },
  {
   "cell_type": "markdown",
   "metadata": {
    "button": false,
    "id": "t8qj603W0c_Z",
    "new_sheet": false,
    "run_control": {
     "read_only": false
    }
   },
   "source": [
    "**260** people have paid off the loan on time while **86** have gone into collection "
   ]
  },
  {
   "cell_type": "markdown",
   "metadata": {
    "id": "EejBcAYq0c_Z"
   },
   "source": [
    "Lets plot some columns to underestand data better:\n",
    "- Use seaborn or matplotlib to draw some plots like that:"
   ]
  },
  {
   "cell_type": "code",
   "execution_count": 133,
   "metadata": {
    "id": "ZXjnyXaz0c_Z"
   },
   "outputs": [],
   "source": [
    "import numpy as np\n",
    "from PIL import Image\n",
    "import matplotlib.pyplot as plt"
   ]
  },
  {
   "cell_type": "code",
   "execution_count": 134,
   "metadata": {
    "id": "vrkfzn8b0c_a"
   },
   "outputs": [],
   "source": [
    "img1 = np.array(Image.open('Principal_Male_Female.jpg'))"
   ]
  },
  {
   "cell_type": "code",
   "execution_count": 135,
   "metadata": {
    "id": "V7kgszhM0c_a",
    "outputId": "1cac591c-d022-45e7-9682-7db20220bab9"
   },
   "outputs": [
    {
     "data": {
      "image/png": "[encoded data removed]",
      "text/plain": [
       "<Figure size 720x360 with 1 Axes>"
      ]
     },
     "metadata": {
      "needs_background": "light"
     },
     "output_type": "display_data"
    }
   ],
   "source": [
    "plt.figure(figsize=(10,5))\n",
    "plt.imshow(img1, interpolation='bilinear')\n",
    "plt.axis('off')\n",
    "plt.show()"
   ]
  },
  {
   "cell_type": "code",
   "execution_count": 136,
   "metadata": {},
   "outputs": [
    {
     "data": {
      "text/html": [
       "<div>\n",
       "<style scoped>\n",
       "    .dataframe tbody tr th:only-of-type {\n",
       "        vertical-align: middle;\n",
       "    }\n",
       "\n",
       "    .dataframe tbody tr th {\n",
       "        vertical-align: top;\n",
       "    }\n",
       "\n",
       "    .dataframe thead th {\n",
       "        text-align: right;\n",
       "    }\n",
       "</style>\n",
       "<table border=\"1\" class=\"dataframe\">\n",
       "  <thead>\n",
       "    <tr style=\"text-align: right;\">\n",
       "      <th>loan_status</th>\n",
       "      <th>Principal</th>\n",
       "      <th>Gender</th>\n",
       "      <th>COLLECTION</th>\n",
       "      <th>PAIDOFF</th>\n",
       "    </tr>\n",
       "  </thead>\n",
       "  <tbody>\n",
       "    <tr>\n",
       "      <th>0</th>\n",
       "      <td>300</td>\n",
       "      <td>male</td>\n",
       "      <td>0.0</td>\n",
       "      <td>3.0</td>\n",
       "    </tr>\n",
       "    <tr>\n",
       "      <th>1</th>\n",
       "      <td>500</td>\n",
       "      <td>female</td>\n",
       "      <td>0.0</td>\n",
       "      <td>1.0</td>\n",
       "    </tr>\n",
       "    <tr>\n",
       "      <th>2</th>\n",
       "      <td>500</td>\n",
       "      <td>male</td>\n",
       "      <td>0.0</td>\n",
       "      <td>1.0</td>\n",
       "    </tr>\n",
       "    <tr>\n",
       "      <th>3</th>\n",
       "      <td>800</td>\n",
       "      <td>female</td>\n",
       "      <td>1.0</td>\n",
       "      <td>11.0</td>\n",
       "    </tr>\n",
       "    <tr>\n",
       "      <th>4</th>\n",
       "      <td>800</td>\n",
       "      <td>male</td>\n",
       "      <td>17.0</td>\n",
       "      <td>52.0</td>\n",
       "    </tr>\n",
       "  </tbody>\n",
       "</table>\n",
       "</div>"
      ],
      "text/plain": [
       "loan_status  Principal  Gender  COLLECTION  PAIDOFF\n",
       "0                  300    male         0.0      3.0\n",
       "1                  500  female         0.0      1.0\n",
       "2                  500    male         0.0      1.0\n",
       "3                  800  female         1.0     11.0\n",
       "4                  800    male        17.0     52.0"
      ]
     },
     "execution_count": 136,
     "metadata": {},
     "output_type": "execute_result"
    }
   ],
   "source": [
    "data1 = df.groupby(['Principal','Gender','loan_status'])['loan_status'].count().unstack().fillna(0).reset_index()\n",
    "data1.head()"
   ]
  },
  {
   "cell_type": "code",
   "execution_count": 137,
   "metadata": {},
   "outputs": [
    {
     "data": {
      "image/png": "[encoded data removed]",
      "text/plain": [
       "<Figure size 576x288 with 2 Axes>"
      ]
     },
     "metadata": {
      "needs_background": "light"
     },
     "output_type": "display_data"
    },
    {
     "data": {
      "text/plain": [
       "<function matplotlib.pyplot.bar(x, height, width=0.8, bottom=None, *, align='center', data=None, **kwargs)>"
      ]
     },
     "execution_count": 137,
     "metadata": {},
     "output_type": "execute_result"
    }
   ],
   "source": [
    "gender = data1['Gender'].unique() \n",
    "fig, ax = plt.subplots(nrows=1, ncols=2, figsize=(8,4), sharex='all', sharey='all')\n",
    "for i in range(1,len(gender)+1):\n",
    "    table = data1[data1['Gender'] == gender[i-1]][['Principal','COLLECTION','PAIDOFF']] \n",
    "    ax[i-1].bar(table['Principal'], table['COLLECTION'], width=100, color='b', edgecolor='black', label='COLLECTION') \n",
    "    ax[i-1].bar(table['Principal'], table['PAIDOFF']-table['COLLECTION'], width=100\n",
    "                , bottom=table['COLLECTION'], color='r',edgecolor='black', label='PAIDOFF')\n",
    "    ax[i-1].set_xlabel('Principal')\n",
    "    ax[i-1].set_xticks([400,600,800,1000])\n",
    "    ax[i-1].set_yticks(np.arange(0,175,25))\n",
    "    ax[i-1].set_title(f'Gender = %s' %(gender[i-1]))\n",
    "    ax[i-1].legend()\n",
    "plt.tight_layout()\n",
    "plt.show()\n",
    "plt.bar"
   ]
  },
  {
   "cell_type": "code",
   "execution_count": 138,
   "metadata": {
    "id": "MVJYuc1I0c_b"
   },
   "outputs": [],
   "source": [
    "img2 = np.array(Image.open('Age_Male_Female.jpg'))"
   ]
  },
  {
   "cell_type": "code",
   "execution_count": 139,
   "metadata": {
    "id": "dD7XBEB30c_b",
    "outputId": "61e6b78a-ca77-49a2-d986-a1a575377d05"
   },
   "outputs": [
    {
     "data": {
      "image/png": "[encoded data removed]",
      "text/plain": [
       "<Figure size 720x360 with 1 Axes>"
      ]
     },
     "metadata": {
      "needs_background": "light"
     },
     "output_type": "display_data"
    }
   ],
   "source": [
    "plt.figure(figsize=(10,5))\n",
    "plt.imshow(img2, interpolation='bilinear')\n",
    "plt.axis('off')\n",
    "plt.show()"
   ]
  },
  {
   "cell_type": "code",
   "execution_count": 140,
   "metadata": {
    "id": "YvSu8d7t0c_b"
   },
   "outputs": [
    {
     "data": {
      "text/html": [
       "<div>\n",
       "<style scoped>\n",
       "    .dataframe tbody tr th:only-of-type {\n",
       "        vertical-align: middle;\n",
       "    }\n",
       "\n",
       "    .dataframe tbody tr th {\n",
       "        vertical-align: top;\n",
       "    }\n",
       "\n",
       "    .dataframe thead th {\n",
       "        text-align: right;\n",
       "    }\n",
       "</style>\n",
       "<table border=\"1\" class=\"dataframe\">\n",
       "  <thead>\n",
       "    <tr style=\"text-align: right;\">\n",
       "      <th>loan_status</th>\n",
       "      <th>Gender</th>\n",
       "      <th>age</th>\n",
       "      <th>COLLECTION</th>\n",
       "      <th>PAIDOFF</th>\n",
       "    </tr>\n",
       "  </thead>\n",
       "  <tbody>\n",
       "    <tr>\n",
       "      <th>0</th>\n",
       "      <td>female</td>\n",
       "      <td>19</td>\n",
       "      <td>0.0</td>\n",
       "      <td>1.0</td>\n",
       "    </tr>\n",
       "    <tr>\n",
       "      <th>1</th>\n",
       "      <td>female</td>\n",
       "      <td>23</td>\n",
       "      <td>0.0</td>\n",
       "      <td>2.0</td>\n",
       "    </tr>\n",
       "    <tr>\n",
       "      <th>2</th>\n",
       "      <td>female</td>\n",
       "      <td>24</td>\n",
       "      <td>0.0</td>\n",
       "      <td>2.0</td>\n",
       "    </tr>\n",
       "    <tr>\n",
       "      <th>3</th>\n",
       "      <td>female</td>\n",
       "      <td>25</td>\n",
       "      <td>0.0</td>\n",
       "      <td>1.0</td>\n",
       "    </tr>\n",
       "    <tr>\n",
       "      <th>4</th>\n",
       "      <td>female</td>\n",
       "      <td>26</td>\n",
       "      <td>1.0</td>\n",
       "      <td>4.0</td>\n",
       "    </tr>\n",
       "  </tbody>\n",
       "</table>\n",
       "</div>"
      ],
      "text/plain": [
       "loan_status  Gender  age  COLLECTION  PAIDOFF\n",
       "0            female   19         0.0      1.0\n",
       "1            female   23         0.0      2.0\n",
       "2            female   24         0.0      2.0\n",
       "3            female   25         0.0      1.0\n",
       "4            female   26         1.0      4.0"
      ]
     },
     "execution_count": 140,
     "metadata": {},
     "output_type": "execute_result"
    }
   ],
   "source": [
    "data2 = df.groupby(['Gender','age','loan_status'])['loan_status'].count().unstack().fillna(0).reset_index()\n",
    "data2.head()"
   ]
  },
  {
   "cell_type": "code",
   "execution_count": 141,
   "metadata": {},
   "outputs": [
    {
     "data": {
      "image/png": "[encoded data removed]",
      "text/plain": [
       "<Figure size 576x288 with 2 Axes>"
      ]
     },
     "metadata": {
      "needs_background": "light"
     },
     "output_type": "display_data"
    }
   ],
   "source": [
    "fig, ax = plt.subplots(nrows=1, ncols=2, figsize=(8,4), sharex='all', sharey='all')\n",
    "for i in range(1,len(gender)+1):\n",
    "    table = data2[data2['Gender'] == gender[i-1]][['age','COLLECTION','PAIDOFF']] \n",
    "    ax[i-1].bar(table['age'], table['COLLECTION'], width=0.9, color='b', edgecolor='black', label='COLLECTION') \n",
    "    ax[i-1].bar(table['age'], table['PAIDOFF'], width=0.9, bottom=table['COLLECTION']\n",
    "                , color='r', edgecolor='black', label='PAIDOFF')\n",
    "    ax[i-1].set_xlabel('age')\n",
    "    ax[i-1].set_xticks([20,30,40,50])\n",
    "    ax[i-1].set_yticks(np.arange(0,60,10))\n",
    "    ax[i-1].set_title(f'Gender = %s' %(gender[i-1]))\n",
    "    ax[i-1].legend()\n",
    "plt.tight_layout()\n",
    "plt.show()"
   ]
  },
  {
   "cell_type": "markdown",
   "metadata": {
    "button": false,
    "id": "_aNeMKDP0c_c",
    "new_sheet": false,
    "run_control": {
     "read_only": false
    }
   },
   "source": [
    "# Pre-processing:  Feature selection/extraction"
   ]
  },
  {
   "cell_type": "markdown",
   "metadata": {
    "button": false,
    "id": "_cM8_qqT0c_c",
    "new_sheet": false,
    "run_control": {
     "read_only": false
    }
   },
   "source": [
    "### Lets look at the day of the week people get the loan "
   ]
  },
  {
   "cell_type": "markdown",
   "metadata": {
    "id": "UqfotX6S0c_c"
   },
   "source": [
    "- Make new column 'dayofweek' from 'effective_date'\n",
    "    - Example: 2016-09-08 => dayofweek is 3 (The day of the week with Monday=0, Sunday=6)\n",
    "    - Link: https://pandas.pydata.org/pandas-docs/stable/reference/api/pandas.DatetimeIndex.dayofweek.html"
   ]
  },
  {
   "cell_type": "code",
   "execution_count": 142,
   "metadata": {
    "id": "PX6dJm6x0c_c"
   },
   "outputs": [],
   "source": [
    "def convert_to_dayofweek(var,df):\n",
    "    result = df[var].dt.dayofweek\n",
    "    return result\n",
    "df['dayofweek']= convert_to_dayofweek('effective_date',df)    "
   ]
  },
  {
   "cell_type": "code",
   "execution_count": 143,
   "metadata": {},
   "outputs": [],
   "source": [
    "#df.head()"
   ]
  },
  {
   "cell_type": "markdown",
   "metadata": {
    "id": "_OFxxSFB0c_c"
   },
   "source": [
    "Lets plot some columns to underestand data better:"
   ]
  },
  {
   "cell_type": "code",
   "execution_count": 144,
   "metadata": {
    "id": "Nb4-650k0c_d"
   },
   "outputs": [],
   "source": [
    "img3 = np.array(Image.open('day_of_week.jpg'))"
   ]
  },
  {
   "cell_type": "code",
   "execution_count": 145,
   "metadata": {
    "id": "fADFz3Ki0c_d",
    "outputId": "d68caf19-b7a4-4e30-8b53-11c3ec3f8e31"
   },
   "outputs": [
    {
     "data": {
      "image/png": "[encoded data removed]",
      "text/plain": [
       "<Figure size 720x360 with 1 Axes>"
      ]
     },
     "metadata": {
      "needs_background": "light"
     },
     "output_type": "display_data"
    }
   ],
   "source": [
    "plt.figure(figsize=(10,5))\n",
    "plt.imshow(img3, interpolation='bilinear')\n",
    "plt.axis('off')\n",
    "plt.show()"
   ]
  },
  {
   "cell_type": "code",
   "execution_count": 146,
   "metadata": {
    "id": "P4bFwyOH0c_d"
   },
   "outputs": [
    {
     "data": {
      "text/html": [
       "<div>\n",
       "<style scoped>\n",
       "    .dataframe tbody tr th:only-of-type {\n",
       "        vertical-align: middle;\n",
       "    }\n",
       "\n",
       "    .dataframe tbody tr th {\n",
       "        vertical-align: top;\n",
       "    }\n",
       "\n",
       "    .dataframe thead th {\n",
       "        text-align: right;\n",
       "    }\n",
       "</style>\n",
       "<table border=\"1\" class=\"dataframe\">\n",
       "  <thead>\n",
       "    <tr style=\"text-align: right;\">\n",
       "      <th>loan_status</th>\n",
       "      <th>Gender</th>\n",
       "      <th>dayofweek</th>\n",
       "      <th>COLLECTION</th>\n",
       "      <th>PAIDOFF</th>\n",
       "    </tr>\n",
       "  </thead>\n",
       "  <tbody>\n",
       "    <tr>\n",
       "      <th>0</th>\n",
       "      <td>female</td>\n",
       "      <td>0</td>\n",
       "      <td>0.0</td>\n",
       "      <td>16.0</td>\n",
       "    </tr>\n",
       "    <tr>\n",
       "      <th>1</th>\n",
       "      <td>female</td>\n",
       "      <td>1</td>\n",
       "      <td>0.0</td>\n",
       "      <td>6.0</td>\n",
       "    </tr>\n",
       "    <tr>\n",
       "      <th>2</th>\n",
       "      <td>female</td>\n",
       "      <td>2</td>\n",
       "      <td>0.0</td>\n",
       "      <td>3.0</td>\n",
       "    </tr>\n",
       "    <tr>\n",
       "      <th>3</th>\n",
       "      <td>female</td>\n",
       "      <td>3</td>\n",
       "      <td>0.0</td>\n",
       "      <td>1.0</td>\n",
       "    </tr>\n",
       "    <tr>\n",
       "      <th>4</th>\n",
       "      <td>female</td>\n",
       "      <td>4</td>\n",
       "      <td>0.0</td>\n",
       "      <td>1.0</td>\n",
       "    </tr>\n",
       "  </tbody>\n",
       "</table>\n",
       "</div>"
      ],
      "text/plain": [
       "loan_status  Gender  dayofweek  COLLECTION  PAIDOFF\n",
       "0            female          0         0.0     16.0\n",
       "1            female          1         0.0      6.0\n",
       "2            female          2         0.0      3.0\n",
       "3            female          3         0.0      1.0\n",
       "4            female          4         0.0      1.0"
      ]
     },
     "execution_count": 146,
     "metadata": {},
     "output_type": "execute_result"
    }
   ],
   "source": [
    "data3 = df.groupby(['Gender','dayofweek','loan_status'])['loan_status'].count().unstack()\n",
    "data3 = data3.fillna(0).reset_index()\n",
    "data3.head()"
   ]
  },
  {
   "cell_type": "code",
   "execution_count": 147,
   "metadata": {},
   "outputs": [
    {
     "data": {
      "image/png": "[encoded data removed]",
      "text/plain": [
       "<Figure size 576x288 with 2 Axes>"
      ]
     },
     "metadata": {
      "needs_background": "light"
     },
     "output_type": "display_data"
    }
   ],
   "source": [
    "fig, ax = plt.subplots(nrows=1, ncols=2, figsize=(8,4), sharex='all', sharey='all')\n",
    "for i in range(1,len(gender)+1):\n",
    "    table = data3[data3['Gender'] == gender[i-1]][['dayofweek','COLLECTION','PAIDOFF']] \n",
    "    ax[i-1].bar(table['dayofweek'], table['COLLECTION'], width=0.9, color='b', edgecolor='black', label='COLLECTION') \n",
    "    ax[i-1].bar(table['dayofweek'], table['PAIDOFF'] - table['COLLECTION'], width=0.9, bottom=table['COLLECTION']\n",
    "                , color='r', edgecolor='black', label='PAIDOFF')\n",
    "    ax[i-1].set_xlabel('dayofweek')\n",
    "    ax[i-1].set_xticks([0,2,4,6])\n",
    "    ax[i-1].set_yticks(np.arange(0,100,20))\n",
    "    ax[i-1].set_title(f'Gender = %s' %(gender[i-1]))\n",
    "    ax[i-1].legend()\n",
    "plt.tight_layout()\n",
    "plt.show()"
   ]
  },
  {
   "cell_type": "markdown",
   "metadata": {
    "button": false,
    "id": "dq4BbnOU0c_d",
    "new_sheet": false,
    "run_control": {
     "read_only": false
    }
   },
   "source": [
    "We see that people who get the loan at the end of the week don't pay it off, so lets use Feature binarization to set a threshold values less then day 4 \n",
    "- Make new column 'weekend': =1 if 'dayofweek'>3, else =0"
   ]
  },
  {
   "cell_type": "code",
   "execution_count": 148,
   "metadata": {
    "id": "9n6YhTaF0c_d"
   },
   "outputs": [],
   "source": [
    "def binary_encode_weekend(var,df):\n",
    "    result = df[var].apply(lambda x: 1 if x>3 else 0)\n",
    "    return result\n",
    "df['weekend'] = binary_encode_weekend('dayofweek',df)"
   ]
  },
  {
   "cell_type": "code",
   "execution_count": 149,
   "metadata": {},
   "outputs": [],
   "source": [
    "#df.head()"
   ]
  },
  {
   "cell_type": "markdown",
   "metadata": {
    "button": false,
    "id": "4cyDRiZF0c_e",
    "new_sheet": false,
    "run_control": {
     "read_only": false
    }
   },
   "source": [
    "## Convert Categorical features to numerical values"
   ]
  },
  {
   "cell_type": "markdown",
   "metadata": {
    "id": "fYe8vb7I0c_e"
   },
   "source": [
    "- groupby 'Gender' and count by 'loan_status'"
   ]
  },
  {
   "cell_type": "code",
   "execution_count": 150,
   "metadata": {
    "button": false,
    "id": "s_sE7dXt0c_e",
    "new_sheet": false,
    "run_control": {
     "read_only": false
    }
   },
   "outputs": [
    {
     "name": "stdout",
     "output_type": "stream",
     "text": [
      "Gender  loan_status\n",
      "female  PAIDOFF         45\n",
      "        COLLECTION       7\n",
      "male    PAIDOFF        215\n",
      "        COLLECTION      79\n",
      "Name: loan_status, dtype: int64\n",
      "--------------------------------------------------\n",
      "Gender  loan_status\n",
      "female  PAIDOFF        0.865385\n",
      "        COLLECTION     0.134615\n",
      "male    PAIDOFF        0.731293\n",
      "        COLLECTION     0.268707\n",
      "Name: loan_status, dtype: float64\n"
     ]
    }
   ],
   "source": [
    "print(df.groupby('Gender')['loan_status'].value_counts())\n",
    "print('-'*50)\n",
    "print(df.groupby('Gender')['loan_status'].value_counts()/df.groupby('Gender')['loan_status'].count())"
   ]
  },
  {
   "cell_type": "markdown",
   "metadata": {
    "button": false,
    "id": "7EeC1OV90c_e",
    "new_sheet": false,
    "run_control": {
     "read_only": false
    }
   },
   "source": [
    "**86,53** % of female pay there loans while only **73,13** % of males pay there loan"
   ]
  },
  {
   "cell_type": "markdown",
   "metadata": {
    "button": false,
    "id": "Ecn2DtCN0c_e",
    "new_sheet": false,
    "run_control": {
     "read_only": false
    }
   },
   "source": [
    "Lets convert male to 0 and female to 1:"
   ]
  },
  {
   "cell_type": "code",
   "execution_count": 151,
   "metadata": {},
   "outputs": [],
   "source": [
    "def binary_encode(df, var, positive_value):\n",
    "    result = df[var].apply(lambda x: 1 if x == positive_value else 0)\n",
    "    return result"
   ]
  },
  {
   "cell_type": "code",
   "execution_count": 152,
   "metadata": {},
   "outputs": [],
   "source": [
    "df['Gender'] = binary_encode(df, 'Gender', positive_value='female')"
   ]
  },
  {
   "cell_type": "code",
   "execution_count": 153,
   "metadata": {},
   "outputs": [
    {
     "data": {
      "text/html": [
       "<div>\n",
       "<style scoped>\n",
       "    .dataframe tbody tr th:only-of-type {\n",
       "        vertical-align: middle;\n",
       "    }\n",
       "\n",
       "    .dataframe tbody tr th {\n",
       "        vertical-align: top;\n",
       "    }\n",
       "\n",
       "    .dataframe thead th {\n",
       "        text-align: right;\n",
       "    }\n",
       "</style>\n",
       "<table border=\"1\" class=\"dataframe\">\n",
       "  <thead>\n",
       "    <tr style=\"text-align: right;\">\n",
       "      <th></th>\n",
       "      <th>loan_status</th>\n",
       "      <th>Principal</th>\n",
       "      <th>terms</th>\n",
       "      <th>effective_date</th>\n",
       "      <th>due_date</th>\n",
       "      <th>age</th>\n",
       "      <th>education</th>\n",
       "      <th>Gender</th>\n",
       "      <th>dayofweek</th>\n",
       "      <th>weekend</th>\n",
       "    </tr>\n",
       "  </thead>\n",
       "  <tbody>\n",
       "    <tr>\n",
       "      <th>0</th>\n",
       "      <td>PAIDOFF</td>\n",
       "      <td>1000</td>\n",
       "      <td>30</td>\n",
       "      <td>2016-09-08</td>\n",
       "      <td>2016-10-07</td>\n",
       "      <td>45</td>\n",
       "      <td>High School or Below</td>\n",
       "      <td>0</td>\n",
       "      <td>3</td>\n",
       "      <td>0</td>\n",
       "    </tr>\n",
       "    <tr>\n",
       "      <th>1</th>\n",
       "      <td>PAIDOFF</td>\n",
       "      <td>1000</td>\n",
       "      <td>30</td>\n",
       "      <td>2016-09-08</td>\n",
       "      <td>2016-10-07</td>\n",
       "      <td>33</td>\n",
       "      <td>Bechalor</td>\n",
       "      <td>1</td>\n",
       "      <td>3</td>\n",
       "      <td>0</td>\n",
       "    </tr>\n",
       "    <tr>\n",
       "      <th>2</th>\n",
       "      <td>PAIDOFF</td>\n",
       "      <td>1000</td>\n",
       "      <td>15</td>\n",
       "      <td>2016-09-08</td>\n",
       "      <td>2016-09-22</td>\n",
       "      <td>27</td>\n",
       "      <td>college</td>\n",
       "      <td>0</td>\n",
       "      <td>3</td>\n",
       "      <td>0</td>\n",
       "    </tr>\n",
       "    <tr>\n",
       "      <th>3</th>\n",
       "      <td>PAIDOFF</td>\n",
       "      <td>1000</td>\n",
       "      <td>30</td>\n",
       "      <td>2016-09-09</td>\n",
       "      <td>2016-10-08</td>\n",
       "      <td>28</td>\n",
       "      <td>college</td>\n",
       "      <td>1</td>\n",
       "      <td>4</td>\n",
       "      <td>1</td>\n",
       "    </tr>\n",
       "    <tr>\n",
       "      <th>4</th>\n",
       "      <td>PAIDOFF</td>\n",
       "      <td>1000</td>\n",
       "      <td>30</td>\n",
       "      <td>2016-09-09</td>\n",
       "      <td>2016-10-08</td>\n",
       "      <td>29</td>\n",
       "      <td>college</td>\n",
       "      <td>0</td>\n",
       "      <td>4</td>\n",
       "      <td>1</td>\n",
       "    </tr>\n",
       "  </tbody>\n",
       "</table>\n",
       "</div>"
      ],
      "text/plain": [
       "  loan_status  Principal  terms effective_date   due_date  age  \\\n",
       "0     PAIDOFF       1000     30     2016-09-08 2016-10-07   45   \n",
       "1     PAIDOFF       1000     30     2016-09-08 2016-10-07   33   \n",
       "2     PAIDOFF       1000     15     2016-09-08 2016-09-22   27   \n",
       "3     PAIDOFF       1000     30     2016-09-09 2016-10-08   28   \n",
       "4     PAIDOFF       1000     30     2016-09-09 2016-10-08   29   \n",
       "\n",
       "              education  Gender  dayofweek  weekend  \n",
       "0  High School or Below       0          3        0  \n",
       "1              Bechalor       1          3        0  \n",
       "2               college       0          3        0  \n",
       "3               college       1          4        1  \n",
       "4               college       0          4        1  "
      ]
     },
     "execution_count": 153,
     "metadata": {},
     "output_type": "execute_result"
    }
   ],
   "source": [
    "df.head()"
   ]
  },
  {
   "cell_type": "markdown",
   "metadata": {
    "button": false,
    "id": "SdPGeMWq0c_f",
    "new_sheet": false,
    "run_control": {
     "read_only": false
    }
   },
   "source": [
    "## One Hot Encoding  \n",
    "#### How about education?"
   ]
  },
  {
   "cell_type": "markdown",
   "metadata": {
    "id": "mDfjZYFp0c_f"
   },
   "source": [
    "- groupby 'education' and count by 'loan_status'"
   ]
  },
  {
   "cell_type": "code",
   "execution_count": 154,
   "metadata": {
    "button": false,
    "id": "U82BGizN0c_f",
    "new_sheet": false,
    "run_control": {
     "read_only": false
    }
   },
   "outputs": [
    {
     "data": {
      "text/plain": [
       "education\n",
       "Bechalor                 44\n",
       "High School or Below    151\n",
       "Master or Above           2\n",
       "college                 149\n",
       "Name: loan_status, dtype: int64"
      ]
     },
     "execution_count": 154,
     "metadata": {},
     "output_type": "execute_result"
    }
   ],
   "source": [
    "df.groupby('education')['loan_status'].count()"
   ]
  },
  {
   "cell_type": "markdown",
   "metadata": {
    "button": false,
    "id": "zHpc6vqF0c_f",
    "new_sheet": false,
    "run_control": {
     "read_only": false
    }
   },
   "source": [
    "#### Feature before One Hot Encoding\n",
    "- Print head() data with 5 columns: 'Principal','terms','age','Gender','education'"
   ]
  },
  {
   "cell_type": "code",
   "execution_count": 155,
   "metadata": {
    "button": false,
    "id": "gtEWiflg0c_f",
    "new_sheet": false,
    "run_control": {
     "read_only": false
    }
   },
   "outputs": [
    {
     "data": {
      "text/html": [
       "<div>\n",
       "<style scoped>\n",
       "    .dataframe tbody tr th:only-of-type {\n",
       "        vertical-align: middle;\n",
       "    }\n",
       "\n",
       "    .dataframe tbody tr th {\n",
       "        vertical-align: top;\n",
       "    }\n",
       "\n",
       "    .dataframe thead th {\n",
       "        text-align: right;\n",
       "    }\n",
       "</style>\n",
       "<table border=\"1\" class=\"dataframe\">\n",
       "  <thead>\n",
       "    <tr style=\"text-align: right;\">\n",
       "      <th></th>\n",
       "      <th>Principal</th>\n",
       "      <th>terms</th>\n",
       "      <th>age</th>\n",
       "      <th>Gender</th>\n",
       "      <th>education</th>\n",
       "    </tr>\n",
       "  </thead>\n",
       "  <tbody>\n",
       "    <tr>\n",
       "      <th>0</th>\n",
       "      <td>1000</td>\n",
       "      <td>30</td>\n",
       "      <td>45</td>\n",
       "      <td>0</td>\n",
       "      <td>High School or Below</td>\n",
       "    </tr>\n",
       "    <tr>\n",
       "      <th>1</th>\n",
       "      <td>1000</td>\n",
       "      <td>30</td>\n",
       "      <td>33</td>\n",
       "      <td>1</td>\n",
       "      <td>Bechalor</td>\n",
       "    </tr>\n",
       "    <tr>\n",
       "      <th>2</th>\n",
       "      <td>1000</td>\n",
       "      <td>15</td>\n",
       "      <td>27</td>\n",
       "      <td>0</td>\n",
       "      <td>college</td>\n",
       "    </tr>\n",
       "    <tr>\n",
       "      <th>3</th>\n",
       "      <td>1000</td>\n",
       "      <td>30</td>\n",
       "      <td>28</td>\n",
       "      <td>1</td>\n",
       "      <td>college</td>\n",
       "    </tr>\n",
       "    <tr>\n",
       "      <th>4</th>\n",
       "      <td>1000</td>\n",
       "      <td>30</td>\n",
       "      <td>29</td>\n",
       "      <td>0</td>\n",
       "      <td>college</td>\n",
       "    </tr>\n",
       "  </tbody>\n",
       "</table>\n",
       "</div>"
      ],
      "text/plain": [
       "   Principal  terms  age  Gender             education\n",
       "0       1000     30   45       0  High School or Below\n",
       "1       1000     30   33       1              Bechalor\n",
       "2       1000     15   27       0               college\n",
       "3       1000     30   28       1               college\n",
       "4       1000     30   29       0               college"
      ]
     },
     "execution_count": 155,
     "metadata": {},
     "output_type": "execute_result"
    }
   ],
   "source": [
    "df[['Principal','terms','age','Gender','education']].head()"
   ]
  },
  {
   "cell_type": "markdown",
   "metadata": {
    "button": false,
    "id": "-V99_fCr0c_g",
    "new_sheet": false,
    "run_control": {
     "read_only": false
    }
   },
   "source": [
    "#### Use one hot encoding technique to convert categorical varables to binary variables and append them to the feature Data Frame "
   ]
  },
  {
   "cell_type": "markdown",
   "metadata": {
    "id": "OVnsqnev0c_g"
   },
   "source": [
    "- Make new dataframe **Feature** has: 'Principal','terms','age','Gender','weekend', 'education'\n",
    "- In **Feature**: Use one hot encoding technique to convert 'education' to binary variable, then drop column 'Master or Above'"
   ]
  },
  {
   "cell_type": "code",
   "execution_count": 156,
   "metadata": {
    "button": false,
    "id": "EVHzGEyT0c_g",
    "new_sheet": false,
    "run_control": {
     "read_only": false
    }
   },
   "outputs": [],
   "source": [
    "Feature = df[['Principal','terms','age','Gender','weekend','education']]"
   ]
  },
  {
   "cell_type": "code",
   "execution_count": 157,
   "metadata": {},
   "outputs": [],
   "source": [
    "from sklearn.preprocessing import OneHotEncoder"
   ]
  },
  {
   "cell_type": "code",
   "execution_count": 158,
   "metadata": {},
   "outputs": [],
   "source": [
    "def oneHotEncoder_func(var,df):\n",
    "    encoder = OneHotEncoder()\n",
    "    df_encoder = encoder.fit_transform(df[[var]])\n",
    "    df_encoder = pd.DataFrame(df_encoder.toarray(), \n",
    "                         columns=[i for i in encoder.categories_[0]])\n",
    "    df_encoder = pd.concat([df, df_encoder],axis=1)\n",
    "    return df_encoder"
   ]
  },
  {
   "cell_type": "code",
   "execution_count": 159,
   "metadata": {},
   "outputs": [],
   "source": [
    "Feature = oneHotEncoder_func('education',Feature).drop(['education','Master or Above'],axis=1)"
   ]
  },
  {
   "cell_type": "code",
   "execution_count": 160,
   "metadata": {},
   "outputs": [
    {
     "data": {
      "text/html": [
       "<div>\n",
       "<style scoped>\n",
       "    .dataframe tbody tr th:only-of-type {\n",
       "        vertical-align: middle;\n",
       "    }\n",
       "\n",
       "    .dataframe tbody tr th {\n",
       "        vertical-align: top;\n",
       "    }\n",
       "\n",
       "    .dataframe thead th {\n",
       "        text-align: right;\n",
       "    }\n",
       "</style>\n",
       "<table border=\"1\" class=\"dataframe\">\n",
       "  <thead>\n",
       "    <tr style=\"text-align: right;\">\n",
       "      <th></th>\n",
       "      <th>Principal</th>\n",
       "      <th>terms</th>\n",
       "      <th>age</th>\n",
       "      <th>Gender</th>\n",
       "      <th>weekend</th>\n",
       "      <th>Bechalor</th>\n",
       "      <th>High School or Below</th>\n",
       "      <th>college</th>\n",
       "    </tr>\n",
       "  </thead>\n",
       "  <tbody>\n",
       "    <tr>\n",
       "      <th>0</th>\n",
       "      <td>1000</td>\n",
       "      <td>30</td>\n",
       "      <td>45</td>\n",
       "      <td>0</td>\n",
       "      <td>0</td>\n",
       "      <td>0.0</td>\n",
       "      <td>1.0</td>\n",
       "      <td>0.0</td>\n",
       "    </tr>\n",
       "    <tr>\n",
       "      <th>1</th>\n",
       "      <td>1000</td>\n",
       "      <td>30</td>\n",
       "      <td>33</td>\n",
       "      <td>1</td>\n",
       "      <td>0</td>\n",
       "      <td>1.0</td>\n",
       "      <td>0.0</td>\n",
       "      <td>0.0</td>\n",
       "    </tr>\n",
       "    <tr>\n",
       "      <th>2</th>\n",
       "      <td>1000</td>\n",
       "      <td>15</td>\n",
       "      <td>27</td>\n",
       "      <td>0</td>\n",
       "      <td>0</td>\n",
       "      <td>0.0</td>\n",
       "      <td>0.0</td>\n",
       "      <td>1.0</td>\n",
       "    </tr>\n",
       "    <tr>\n",
       "      <th>3</th>\n",
       "      <td>1000</td>\n",
       "      <td>30</td>\n",
       "      <td>28</td>\n",
       "      <td>1</td>\n",
       "      <td>1</td>\n",
       "      <td>0.0</td>\n",
       "      <td>0.0</td>\n",
       "      <td>1.0</td>\n",
       "    </tr>\n",
       "    <tr>\n",
       "      <th>4</th>\n",
       "      <td>1000</td>\n",
       "      <td>30</td>\n",
       "      <td>29</td>\n",
       "      <td>0</td>\n",
       "      <td>1</td>\n",
       "      <td>0.0</td>\n",
       "      <td>0.0</td>\n",
       "      <td>1.0</td>\n",
       "    </tr>\n",
       "  </tbody>\n",
       "</table>\n",
       "</div>"
      ],
      "text/plain": [
       "   Principal  terms  age  Gender  weekend  Bechalor  High School or Below  \\\n",
       "0       1000     30   45       0        0       0.0                   1.0   \n",
       "1       1000     30   33       1        0       1.0                   0.0   \n",
       "2       1000     15   27       0        0       0.0                   0.0   \n",
       "3       1000     30   28       1        1       0.0                   0.0   \n",
       "4       1000     30   29       0        1       0.0                   0.0   \n",
       "\n",
       "   college  \n",
       "0      0.0  \n",
       "1      0.0  \n",
       "2      1.0  \n",
       "3      1.0  \n",
       "4      1.0  "
      ]
     },
     "execution_count": 160,
     "metadata": {},
     "output_type": "execute_result"
    }
   ],
   "source": [
    "Feature.head()"
   ]
  },
  {
   "cell_type": "markdown",
   "metadata": {
    "button": false,
    "id": "3lIRsZIi0c_g",
    "new_sheet": false,
    "run_control": {
     "read_only": false
    }
   },
   "source": [
    "### Feature selection"
   ]
  },
  {
   "cell_type": "markdown",
   "metadata": {
    "button": false,
    "id": "Xo7-uWO80c_g",
    "new_sheet": false,
    "run_control": {
     "read_only": false
    }
   },
   "source": [
    "Lets defind feature sets, X:\n",
    "- X is inputs, X = Features"
   ]
  },
  {
   "cell_type": "code",
   "execution_count": 161,
   "metadata": {
    "button": false,
    "id": "0pw_K0hZ0c_g",
    "new_sheet": false,
    "run_control": {
     "read_only": false
    }
   },
   "outputs": [],
   "source": [
    "X = Feature "
   ]
  },
  {
   "cell_type": "markdown",
   "metadata": {
    "button": false,
    "id": "IK7hjikK0c_h",
    "new_sheet": false,
    "run_control": {
     "read_only": false
    }
   },
   "source": [
    "What are our lables?\n",
    "- y is output, y = 'loan_status' column"
   ]
  },
  {
   "cell_type": "code",
   "execution_count": 162,
   "metadata": {},
   "outputs": [],
   "source": [
    "y = binary_encode(df, 'loan_status', positive_value='PAIDOFF')"
   ]
  },
  {
   "cell_type": "code",
   "execution_count": 163,
   "metadata": {},
   "outputs": [
    {
     "data": {
      "text/plain": [
       "1    260\n",
       "0     86\n",
       "Name: loan_status, dtype: int64"
      ]
     },
     "execution_count": 163,
     "metadata": {},
     "output_type": "execute_result"
    }
   ],
   "source": [
    "y.value_counts()"
   ]
  },
  {
   "cell_type": "markdown",
   "metadata": {
    "button": false,
    "id": "7Vsg0sZu0c_h",
    "new_sheet": false,
    "run_control": {
     "read_only": false
    }
   },
   "source": [
    "## Scaler Data "
   ]
  },
  {
   "cell_type": "markdown",
   "metadata": {
    "button": false,
    "id": "LNB1Vkw50c_h",
    "new_sheet": false,
    "run_control": {
     "read_only": false
    }
   },
   "source": [
    "Find the suitable Scaler to scale data of X (if we need to do to have a better prediction)"
   ]
  },
  {
   "cell_type": "markdown",
   "metadata": {
    "button": false,
    "id": "l4dZhpVJ0c_h",
    "new_sheet": false,
    "run_control": {
     "read_only": false
    }
   },
   "source": [
    "# Classification "
   ]
  },
  {
   "cell_type": "markdown",
   "metadata": {
    "button": false,
    "id": "2NQPfGtj0c_i",
    "new_sheet": false,
    "run_control": {
     "read_only": false
    }
   },
   "source": [
    "Now, use the training set to build an accurate model. Then use the test set (loan_test.csv) to report the accuracy of the model\n",
    "You should use the following algorithm:\n",
    "- Logistic Regression\n",
    "\n",
    "__ Notice:__ \n",
    "- You can go above and change the pre-processing, feature selection, feature-extraction, and so on, to make a better model.\n",
    "- You should use either scikit-learn, Scipy or Numpy libraries for developing the classification algorithms.\n",
    "- You should include the code of the algorithm in the following cells."
   ]
  },
  {
   "cell_type": "markdown",
   "metadata": {
    "id": "s2NmYby50c_i"
   },
   "source": [
    "# Logistic Regression"
   ]
  },
  {
   "cell_type": "code",
   "execution_count": 164,
   "metadata": {
    "id": "gIfHUcOm0c_i"
   },
   "outputs": [],
   "source": [
    "from sklearn.model_selection import train_test_split\n",
    "from sklearn.linear_model import LogisticRegression\n",
    "from sklearn.metrics import f1_score, accuracy_score, confusion_matrix, classification_report\n",
    "from sklearn.metrics import recall_score, precision_score"
   ]
  },
  {
   "cell_type": "code",
   "execution_count": 165,
   "metadata": {},
   "outputs": [],
   "source": [
    "def model_evaluation_logit(model, X_train, y_train, X_test, y_test, name):\n",
    "    #training score\n",
    "    training_score = model.score(X_train, y_train)\n",
    "    #test score\n",
    "    test_score = model.score(X_test, y_test)\n",
    "    yhat_train = model.predict(X_train)\n",
    "    yhat_test = model.predict(X_test)\n",
    "    f1Score_paidoff = f1_score(y_true=y_test, y_pred=yhat_test, pos_label=1)\n",
    "    f1Score_collection = f1_score(y_true=y_test, y_pred=yhat_test, pos_label=0)\n",
    "    accuracyScore = accuracy_score(y_true=y_test, y_pred=yhat_test)\n",
    "    #Kiem tra do chinh xac = confusion matrix\n",
    "    confusionMatrix = confusion_matrix(y_true=y_test, y_pred=yhat_test)\n",
    "    #tinh precision, recall\n",
    "    recall_collection = recall_score(y_true= y_test, y_pred = yhat_test, pos_label=0)\n",
    "    recall_paidoff = recall_score(y_true= y_test, y_pred = yhat_test, pos_label=1)\n",
    "    precision_collection = precision_score(y_true= y_test, y_pred = yhat_test, pos_label=0)\n",
    "    precision_paidoff = precision_score(y_true= y_test, y_pred = yhat_test, pos_label=1)\n",
    "    classificationReport = classification_report(y_true=y_test, y_pred=yhat_test)\n",
    "    print('Training Score:\\t',training_score)\n",
    "    print('Test Score:\\t',test_score)\n",
    "    print('--- Confusion matrix:\\n',confusionMatrix)\n",
    "    print('--- Classification report:\\n',classificationReport)\n",
    "    result = pd.DataFrame([accuracyScore,recall_paidoff,recall_collection,precision_paidoff,precision_collection,f1Score_paidoff,f1Score_collection]\n",
    "                          ,index=['Accuracy Score','Recall PAIDOFF','Recall COLLECTION','Precision PAIDOFF'\n",
    "                                  ,'Precision COLLECTION','F1Score PAIDOFF','F1Score COLLECTION']\n",
    "                          ,columns=[name]).T\n",
    "    return result"
   ]
  },
  {
   "cell_type": "code",
   "execution_count": 166,
   "metadata": {},
   "outputs": [],
   "source": [
    "# Split X, y to train and test\n",
    "X_train, X_test, y_train, y_test = train_test_split(X,y,test_size=0.3)"
   ]
  },
  {
   "cell_type": "code",
   "execution_count": 167,
   "metadata": {},
   "outputs": [
    {
     "data": {
      "text/plain": [
       "((242, 8), (104, 8))"
      ]
     },
     "execution_count": 167,
     "metadata": {},
     "output_type": "execute_result"
    }
   ],
   "source": [
    "X_train.shape, X_test.shape"
   ]
  },
  {
   "cell_type": "markdown",
   "metadata": {},
   "source": [
    "### Model_1 - Selected Features"
   ]
  },
  {
   "cell_type": "code",
   "execution_count": 168,
   "metadata": {
    "id": "A13_i3If0c_i"
   },
   "outputs": [],
   "source": [
    "model_1 = LogisticRegression(solver='liblinear')"
   ]
  },
  {
   "cell_type": "code",
   "execution_count": 169,
   "metadata": {
    "id": "cSoLCBaj0c_i"
   },
   "outputs": [
    {
     "data": {
      "text/plain": [
       "LogisticRegression(solver='liblinear')"
      ]
     },
     "execution_count": 169,
     "metadata": {},
     "output_type": "execute_result"
    }
   ],
   "source": [
    "model_1.fit(X_train, y_train)"
   ]
  },
  {
   "cell_type": "code",
   "execution_count": 170,
   "metadata": {
    "scrolled": false
   },
   "outputs": [
    {
     "name": "stdout",
     "output_type": "stream",
     "text": [
      "Training Score:\t 0.7727272727272727\n",
      "Test Score:\t 0.7115384615384616\n",
      "--- Confusion matrix:\n",
      " [[ 6 22]\n",
      " [ 8 68]]\n",
      "--- Classification report:\n",
      "               precision    recall  f1-score   support\n",
      "\n",
      "           0       0.43      0.21      0.29        28\n",
      "           1       0.76      0.89      0.82        76\n",
      "\n",
      "    accuracy                           0.71       104\n",
      "   macro avg       0.59      0.55      0.55       104\n",
      "weighted avg       0.67      0.71      0.68       104\n",
      "\n"
     ]
    },
    {
     "data": {
      "text/html": [
       "<div>\n",
       "<style scoped>\n",
       "    .dataframe tbody tr th:only-of-type {\n",
       "        vertical-align: middle;\n",
       "    }\n",
       "\n",
       "    .dataframe tbody tr th {\n",
       "        vertical-align: top;\n",
       "    }\n",
       "\n",
       "    .dataframe thead th {\n",
       "        text-align: right;\n",
       "    }\n",
       "</style>\n",
       "<table border=\"1\" class=\"dataframe\">\n",
       "  <thead>\n",
       "    <tr style=\"text-align: right;\">\n",
       "      <th></th>\n",
       "      <th>Accuracy Score</th>\n",
       "      <th>Recall PAIDOFF</th>\n",
       "      <th>Recall COLLECTION</th>\n",
       "      <th>Precision PAIDOFF</th>\n",
       "      <th>Precision COLLECTION</th>\n",
       "      <th>F1Score PAIDOFF</th>\n",
       "      <th>F1Score COLLECTION</th>\n",
       "    </tr>\n",
       "  </thead>\n",
       "  <tbody>\n",
       "    <tr>\n",
       "      <th>Selected Features</th>\n",
       "      <td>0.711538</td>\n",
       "      <td>0.894737</td>\n",
       "      <td>0.214286</td>\n",
       "      <td>0.755556</td>\n",
       "      <td>0.428571</td>\n",
       "      <td>0.819277</td>\n",
       "      <td>0.285714</td>\n",
       "    </tr>\n",
       "  </tbody>\n",
       "</table>\n",
       "</div>"
      ],
      "text/plain": [
       "                   Accuracy Score  Recall PAIDOFF  Recall COLLECTION  \\\n",
       "Selected Features        0.711538        0.894737           0.214286   \n",
       "\n",
       "                   Precision PAIDOFF  Precision COLLECTION  F1Score PAIDOFF  \\\n",
       "Selected Features           0.755556              0.428571         0.819277   \n",
       "\n",
       "                   F1Score COLLECTION  \n",
       "Selected Features            0.285714  "
      ]
     },
     "execution_count": 170,
     "metadata": {},
     "output_type": "execute_result"
    }
   ],
   "source": [
    "# Model Evaluation\n",
    "result1 = model_evaluation_logit(model_1, X_train, y_train, X_test, y_test,'Selected Features')\n",
    "result1"
   ]
  },
  {
   "cell_type": "markdown",
   "metadata": {},
   "source": [
    "### Nhận xét:     ** Model_1 **\n",
    "- Xác định rất tốt các khoản vay trả đúng hạn (Paidoff) với precision khá\n",
    "- Xác định không tốt/không xác định được các khoản vay xấu (Collection) với precision trung bình"
   ]
  },
  {
   "cell_type": "markdown",
   "metadata": {
    "button": false,
    "id": "hf357vdN0c_j",
    "new_sheet": false,
    "run_control": {
     "read_only": false
    }
   },
   "source": [
    "### Load Test file for prediction"
   ]
  },
  {
   "cell_type": "code",
   "execution_count": 171,
   "metadata": {},
   "outputs": [
    {
     "name": "stdout",
     "output_type": "stream",
     "text": [
      "<class 'pandas.core.frame.DataFrame'>\n",
      "RangeIndex: 54 entries, 0 to 53\n",
      "Data columns (total 8 columns):\n",
      " #   Column          Non-Null Count  Dtype \n",
      "---  ------          --------------  ----- \n",
      " 0   loan_status     54 non-null     object\n",
      " 1   Principal       54 non-null     int64 \n",
      " 2   terms           54 non-null     int64 \n",
      " 3   effective_date  54 non-null     object\n",
      " 4   due_date        54 non-null     object\n",
      " 5   age             54 non-null     int64 \n",
      " 6   education       54 non-null     object\n",
      " 7   Gender          54 non-null     object\n",
      "dtypes: int64(3), object(5)\n",
      "memory usage: 3.5+ KB\n"
     ]
    }
   ],
   "source": [
    "df_test = pd.read_csv('loan_test.csv', usecols=cols_name)\n",
    "df_test.info()"
   ]
  },
  {
   "cell_type": "code",
   "execution_count": 172,
   "metadata": {},
   "outputs": [
    {
     "data": {
      "text/plain": [
       "PAIDOFF       40\n",
       "COLLECTION    14\n",
       "Name: loan_status, dtype: int64"
      ]
     },
     "execution_count": 172,
     "metadata": {},
     "output_type": "execute_result"
    }
   ],
   "source": [
    "df_test['loan_status'].value_counts()"
   ]
  },
  {
   "cell_type": "code",
   "execution_count": 173,
   "metadata": {},
   "outputs": [],
   "source": [
    "df_test_now = df_test.copy()"
   ]
  },
  {
   "cell_type": "code",
   "execution_count": 174,
   "metadata": {},
   "outputs": [
    {
     "data": {
      "text/html": [
       "<div>\n",
       "<style scoped>\n",
       "    .dataframe tbody tr th:only-of-type {\n",
       "        vertical-align: middle;\n",
       "    }\n",
       "\n",
       "    .dataframe tbody tr th {\n",
       "        vertical-align: top;\n",
       "    }\n",
       "\n",
       "    .dataframe thead th {\n",
       "        text-align: right;\n",
       "    }\n",
       "</style>\n",
       "<table border=\"1\" class=\"dataframe\">\n",
       "  <thead>\n",
       "    <tr style=\"text-align: right;\">\n",
       "      <th></th>\n",
       "      <th>loan_status</th>\n",
       "      <th>Principal</th>\n",
       "      <th>terms</th>\n",
       "      <th>effective_date</th>\n",
       "      <th>due_date</th>\n",
       "      <th>age</th>\n",
       "      <th>education</th>\n",
       "      <th>Gender</th>\n",
       "    </tr>\n",
       "  </thead>\n",
       "  <tbody>\n",
       "    <tr>\n",
       "      <th>0</th>\n",
       "      <td>PAIDOFF</td>\n",
       "      <td>1000</td>\n",
       "      <td>30</td>\n",
       "      <td>9/8/2016</td>\n",
       "      <td>10/7/2016</td>\n",
       "      <td>50</td>\n",
       "      <td>Bechalor</td>\n",
       "      <td>female</td>\n",
       "    </tr>\n",
       "    <tr>\n",
       "      <th>1</th>\n",
       "      <td>PAIDOFF</td>\n",
       "      <td>300</td>\n",
       "      <td>7</td>\n",
       "      <td>9/9/2016</td>\n",
       "      <td>9/15/2016</td>\n",
       "      <td>35</td>\n",
       "      <td>Master or Above</td>\n",
       "      <td>male</td>\n",
       "    </tr>\n",
       "    <tr>\n",
       "      <th>2</th>\n",
       "      <td>PAIDOFF</td>\n",
       "      <td>1000</td>\n",
       "      <td>30</td>\n",
       "      <td>9/10/2016</td>\n",
       "      <td>10/9/2016</td>\n",
       "      <td>43</td>\n",
       "      <td>High School or Below</td>\n",
       "      <td>female</td>\n",
       "    </tr>\n",
       "    <tr>\n",
       "      <th>3</th>\n",
       "      <td>PAIDOFF</td>\n",
       "      <td>1000</td>\n",
       "      <td>30</td>\n",
       "      <td>9/10/2016</td>\n",
       "      <td>10/9/2016</td>\n",
       "      <td>26</td>\n",
       "      <td>college</td>\n",
       "      <td>male</td>\n",
       "    </tr>\n",
       "    <tr>\n",
       "      <th>4</th>\n",
       "      <td>PAIDOFF</td>\n",
       "      <td>800</td>\n",
       "      <td>15</td>\n",
       "      <td>9/11/2016</td>\n",
       "      <td>9/25/2016</td>\n",
       "      <td>29</td>\n",
       "      <td>Bechalor</td>\n",
       "      <td>male</td>\n",
       "    </tr>\n",
       "  </tbody>\n",
       "</table>\n",
       "</div>"
      ],
      "text/plain": [
       "  loan_status  Principal  terms effective_date   due_date  age  \\\n",
       "0     PAIDOFF       1000     30       9/8/2016  10/7/2016   50   \n",
       "1     PAIDOFF        300      7       9/9/2016  9/15/2016   35   \n",
       "2     PAIDOFF       1000     30      9/10/2016  10/9/2016   43   \n",
       "3     PAIDOFF       1000     30      9/10/2016  10/9/2016   26   \n",
       "4     PAIDOFF        800     15      9/11/2016  9/25/2016   29   \n",
       "\n",
       "              education  Gender  \n",
       "0              Bechalor  female  \n",
       "1       Master or Above    male  \n",
       "2  High School or Below  female  \n",
       "3               college    male  \n",
       "4              Bechalor    male  "
      ]
     },
     "execution_count": 174,
     "metadata": {},
     "output_type": "execute_result"
    }
   ],
   "source": [
    "df_test_now.head()"
   ]
  },
  {
   "cell_type": "code",
   "execution_count": 175,
   "metadata": {},
   "outputs": [],
   "source": [
    "for var in ['due_date','effective_date']:\n",
    "    convert_to_datetime(var,df_test_now)    \n",
    "\n",
    "df_test_now['dayofweek']= convert_to_dayofweek('effective_date',df_test_now)  \n",
    "df_test_now['weekend'] = binary_encode_weekend('dayofweek',df_test_now)\n",
    "df_test_now['Gender'] = binary_encode(df_test_now, 'Gender', positive_value='female')"
   ]
  },
  {
   "cell_type": "code",
   "execution_count": 176,
   "metadata": {},
   "outputs": [
    {
     "data": {
      "text/html": [
       "<div>\n",
       "<style scoped>\n",
       "    .dataframe tbody tr th:only-of-type {\n",
       "        vertical-align: middle;\n",
       "    }\n",
       "\n",
       "    .dataframe tbody tr th {\n",
       "        vertical-align: top;\n",
       "    }\n",
       "\n",
       "    .dataframe thead th {\n",
       "        text-align: right;\n",
       "    }\n",
       "</style>\n",
       "<table border=\"1\" class=\"dataframe\">\n",
       "  <thead>\n",
       "    <tr style=\"text-align: right;\">\n",
       "      <th></th>\n",
       "      <th>loan_status</th>\n",
       "      <th>Principal</th>\n",
       "      <th>terms</th>\n",
       "      <th>effective_date</th>\n",
       "      <th>due_date</th>\n",
       "      <th>age</th>\n",
       "      <th>education</th>\n",
       "      <th>Gender</th>\n",
       "      <th>dayofweek</th>\n",
       "      <th>weekend</th>\n",
       "    </tr>\n",
       "  </thead>\n",
       "  <tbody>\n",
       "    <tr>\n",
       "      <th>0</th>\n",
       "      <td>PAIDOFF</td>\n",
       "      <td>1000</td>\n",
       "      <td>30</td>\n",
       "      <td>2016-09-08</td>\n",
       "      <td>2016-10-07</td>\n",
       "      <td>50</td>\n",
       "      <td>Bechalor</td>\n",
       "      <td>1</td>\n",
       "      <td>3</td>\n",
       "      <td>0</td>\n",
       "    </tr>\n",
       "    <tr>\n",
       "      <th>1</th>\n",
       "      <td>PAIDOFF</td>\n",
       "      <td>300</td>\n",
       "      <td>7</td>\n",
       "      <td>2016-09-09</td>\n",
       "      <td>2016-09-15</td>\n",
       "      <td>35</td>\n",
       "      <td>Master or Above</td>\n",
       "      <td>0</td>\n",
       "      <td>4</td>\n",
       "      <td>1</td>\n",
       "    </tr>\n",
       "    <tr>\n",
       "      <th>2</th>\n",
       "      <td>PAIDOFF</td>\n",
       "      <td>1000</td>\n",
       "      <td>30</td>\n",
       "      <td>2016-09-10</td>\n",
       "      <td>2016-10-09</td>\n",
       "      <td>43</td>\n",
       "      <td>High School or Below</td>\n",
       "      <td>1</td>\n",
       "      <td>5</td>\n",
       "      <td>1</td>\n",
       "    </tr>\n",
       "    <tr>\n",
       "      <th>3</th>\n",
       "      <td>PAIDOFF</td>\n",
       "      <td>1000</td>\n",
       "      <td>30</td>\n",
       "      <td>2016-09-10</td>\n",
       "      <td>2016-10-09</td>\n",
       "      <td>26</td>\n",
       "      <td>college</td>\n",
       "      <td>0</td>\n",
       "      <td>5</td>\n",
       "      <td>1</td>\n",
       "    </tr>\n",
       "    <tr>\n",
       "      <th>4</th>\n",
       "      <td>PAIDOFF</td>\n",
       "      <td>800</td>\n",
       "      <td>15</td>\n",
       "      <td>2016-09-11</td>\n",
       "      <td>2016-09-25</td>\n",
       "      <td>29</td>\n",
       "      <td>Bechalor</td>\n",
       "      <td>0</td>\n",
       "      <td>6</td>\n",
       "      <td>1</td>\n",
       "    </tr>\n",
       "  </tbody>\n",
       "</table>\n",
       "</div>"
      ],
      "text/plain": [
       "  loan_status  Principal  terms effective_date   due_date  age  \\\n",
       "0     PAIDOFF       1000     30     2016-09-08 2016-10-07   50   \n",
       "1     PAIDOFF        300      7     2016-09-09 2016-09-15   35   \n",
       "2     PAIDOFF       1000     30     2016-09-10 2016-10-09   43   \n",
       "3     PAIDOFF       1000     30     2016-09-10 2016-10-09   26   \n",
       "4     PAIDOFF        800     15     2016-09-11 2016-09-25   29   \n",
       "\n",
       "              education  Gender  dayofweek  weekend  \n",
       "0              Bechalor       1          3        0  \n",
       "1       Master or Above       0          4        1  \n",
       "2  High School or Below       1          5        1  \n",
       "3               college       0          5        1  \n",
       "4              Bechalor       0          6        1  "
      ]
     },
     "execution_count": 176,
     "metadata": {},
     "output_type": "execute_result"
    }
   ],
   "source": [
    "df_test_now.head()"
   ]
  },
  {
   "cell_type": "code",
   "execution_count": 177,
   "metadata": {},
   "outputs": [
    {
     "data": {
      "text/html": [
       "<div>\n",
       "<style scoped>\n",
       "    .dataframe tbody tr th:only-of-type {\n",
       "        vertical-align: middle;\n",
       "    }\n",
       "\n",
       "    .dataframe tbody tr th {\n",
       "        vertical-align: top;\n",
       "    }\n",
       "\n",
       "    .dataframe thead th {\n",
       "        text-align: right;\n",
       "    }\n",
       "</style>\n",
       "<table border=\"1\" class=\"dataframe\">\n",
       "  <thead>\n",
       "    <tr style=\"text-align: right;\">\n",
       "      <th></th>\n",
       "      <th>Principal</th>\n",
       "      <th>terms</th>\n",
       "      <th>age</th>\n",
       "      <th>Gender</th>\n",
       "      <th>weekend</th>\n",
       "      <th>Bechalor</th>\n",
       "      <th>High School or Below</th>\n",
       "      <th>college</th>\n",
       "    </tr>\n",
       "  </thead>\n",
       "  <tbody>\n",
       "    <tr>\n",
       "      <th>0</th>\n",
       "      <td>1000</td>\n",
       "      <td>30</td>\n",
       "      <td>50</td>\n",
       "      <td>1</td>\n",
       "      <td>0</td>\n",
       "      <td>1.0</td>\n",
       "      <td>0.0</td>\n",
       "      <td>0.0</td>\n",
       "    </tr>\n",
       "    <tr>\n",
       "      <th>1</th>\n",
       "      <td>300</td>\n",
       "      <td>7</td>\n",
       "      <td>35</td>\n",
       "      <td>0</td>\n",
       "      <td>1</td>\n",
       "      <td>0.0</td>\n",
       "      <td>0.0</td>\n",
       "      <td>0.0</td>\n",
       "    </tr>\n",
       "    <tr>\n",
       "      <th>2</th>\n",
       "      <td>1000</td>\n",
       "      <td>30</td>\n",
       "      <td>43</td>\n",
       "      <td>1</td>\n",
       "      <td>1</td>\n",
       "      <td>0.0</td>\n",
       "      <td>1.0</td>\n",
       "      <td>0.0</td>\n",
       "    </tr>\n",
       "    <tr>\n",
       "      <th>3</th>\n",
       "      <td>1000</td>\n",
       "      <td>30</td>\n",
       "      <td>26</td>\n",
       "      <td>0</td>\n",
       "      <td>1</td>\n",
       "      <td>0.0</td>\n",
       "      <td>0.0</td>\n",
       "      <td>1.0</td>\n",
       "    </tr>\n",
       "    <tr>\n",
       "      <th>4</th>\n",
       "      <td>800</td>\n",
       "      <td>15</td>\n",
       "      <td>29</td>\n",
       "      <td>0</td>\n",
       "      <td>1</td>\n",
       "      <td>1.0</td>\n",
       "      <td>0.0</td>\n",
       "      <td>0.0</td>\n",
       "    </tr>\n",
       "  </tbody>\n",
       "</table>\n",
       "</div>"
      ],
      "text/plain": [
       "   Principal  terms  age  Gender  weekend  Bechalor  High School or Below  \\\n",
       "0       1000     30   50       1        0       1.0                   0.0   \n",
       "1        300      7   35       0        1       0.0                   0.0   \n",
       "2       1000     30   43       1        1       0.0                   1.0   \n",
       "3       1000     30   26       0        1       0.0                   0.0   \n",
       "4        800     15   29       0        1       1.0                   0.0   \n",
       "\n",
       "   college  \n",
       "0      0.0  \n",
       "1      0.0  \n",
       "2      0.0  \n",
       "3      1.0  \n",
       "4      0.0  "
      ]
     },
     "execution_count": 177,
     "metadata": {},
     "output_type": "execute_result"
    }
   ],
   "source": [
    "Feature_test = df_test_now[['Principal','terms','age','Gender','weekend','education']]\n",
    "Feature_test = oneHotEncoder_func('education',Feature_test).drop(['education','Master or Above'],axis=1)\n",
    "Feature_test.head()"
   ]
  },
  {
   "cell_type": "code",
   "execution_count": 178,
   "metadata": {},
   "outputs": [],
   "source": [
    "X_test_now = Feature_test"
   ]
  },
  {
   "cell_type": "code",
   "execution_count": 179,
   "metadata": {},
   "outputs": [],
   "source": [
    "y_test_now = binary_encode(df_test, 'loan_status', positive_value='PAIDOFF')"
   ]
  },
  {
   "cell_type": "code",
   "execution_count": 180,
   "metadata": {},
   "outputs": [],
   "source": [
    "yhat_test_now=model_1.predict(X_test_now)"
   ]
  },
  {
   "cell_type": "code",
   "execution_count": 181,
   "metadata": {},
   "outputs": [
    {
     "data": {
      "text/plain": [
       "array([1, 0, 1, 1, 1, 0, 1, 1, 1, 1, 0, 0, 1, 1, 1, 1, 1, 1, 1, 1, 1, 1,\n",
       "       1, 1, 1, 1, 1, 1, 1, 1, 1, 1, 1, 1, 1, 1, 1, 1, 1, 1, 1, 1, 1, 1,\n",
       "       1, 0, 1, 1, 1, 1, 1, 1, 0, 1])"
      ]
     },
     "execution_count": 181,
     "metadata": {},
     "output_type": "execute_result"
    }
   ],
   "source": [
    "yhat_test_now"
   ]
  },
  {
   "cell_type": "code",
   "execution_count": 182,
   "metadata": {},
   "outputs": [],
   "source": [
    "def quick_evaluation(y_true,y_pred):\n",
    "    accuracyScore = accuracy_score(y_true, y_pred)\n",
    "    #Kiem tra do chinh xac = confusion matrix\n",
    "    confusionMatrix = confusion_matrix(y_true, y_pred)\n",
    "    #tinh precision, recall\n",
    "    classificationReport = classification_report(y_true, y_pred)\n",
    "    print(confusionMatrix)\n",
    "    print(classificationReport)"
   ]
  },
  {
   "cell_type": "code",
   "execution_count": 183,
   "metadata": {},
   "outputs": [
    {
     "name": "stdout",
     "output_type": "stream",
     "text": [
      "[[ 2 12]\n",
      " [ 4 36]]\n",
      "              precision    recall  f1-score   support\n",
      "\n",
      "           0       0.33      0.14      0.20        14\n",
      "           1       0.75      0.90      0.82        40\n",
      "\n",
      "    accuracy                           0.70        54\n",
      "   macro avg       0.54      0.52      0.51        54\n",
      "weighted avg       0.64      0.70      0.66        54\n",
      "\n"
     ]
    }
   ],
   "source": [
    "#Đánh giá trên tập loan_test.csv\n",
    "quick_evaluation(y_test_now,yhat_test_now)"
   ]
  },
  {
   "cell_type": "code",
   "execution_count": 184,
   "metadata": {},
   "outputs": [],
   "source": [
    "df_test['loan_status'] = yhat_test_now"
   ]
  },
  {
   "cell_type": "code",
   "execution_count": 185,
   "metadata": {},
   "outputs": [
    {
     "data": {
      "text/html": [
       "<div>\n",
       "<style scoped>\n",
       "    .dataframe tbody tr th:only-of-type {\n",
       "        vertical-align: middle;\n",
       "    }\n",
       "\n",
       "    .dataframe tbody tr th {\n",
       "        vertical-align: top;\n",
       "    }\n",
       "\n",
       "    .dataframe thead th {\n",
       "        text-align: right;\n",
       "    }\n",
       "</style>\n",
       "<table border=\"1\" class=\"dataframe\">\n",
       "  <thead>\n",
       "    <tr style=\"text-align: right;\">\n",
       "      <th></th>\n",
       "      <th>loan_status</th>\n",
       "      <th>Principal</th>\n",
       "      <th>terms</th>\n",
       "      <th>effective_date</th>\n",
       "      <th>due_date</th>\n",
       "      <th>age</th>\n",
       "      <th>education</th>\n",
       "      <th>Gender</th>\n",
       "    </tr>\n",
       "  </thead>\n",
       "  <tbody>\n",
       "    <tr>\n",
       "      <th>0</th>\n",
       "      <td>1</td>\n",
       "      <td>1000</td>\n",
       "      <td>30</td>\n",
       "      <td>9/8/2016</td>\n",
       "      <td>10/7/2016</td>\n",
       "      <td>50</td>\n",
       "      <td>Bechalor</td>\n",
       "      <td>female</td>\n",
       "    </tr>\n",
       "    <tr>\n",
       "      <th>1</th>\n",
       "      <td>0</td>\n",
       "      <td>300</td>\n",
       "      <td>7</td>\n",
       "      <td>9/9/2016</td>\n",
       "      <td>9/15/2016</td>\n",
       "      <td>35</td>\n",
       "      <td>Master or Above</td>\n",
       "      <td>male</td>\n",
       "    </tr>\n",
       "    <tr>\n",
       "      <th>2</th>\n",
       "      <td>1</td>\n",
       "      <td>1000</td>\n",
       "      <td>30</td>\n",
       "      <td>9/10/2016</td>\n",
       "      <td>10/9/2016</td>\n",
       "      <td>43</td>\n",
       "      <td>High School or Below</td>\n",
       "      <td>female</td>\n",
       "    </tr>\n",
       "    <tr>\n",
       "      <th>3</th>\n",
       "      <td>1</td>\n",
       "      <td>1000</td>\n",
       "      <td>30</td>\n",
       "      <td>9/10/2016</td>\n",
       "      <td>10/9/2016</td>\n",
       "      <td>26</td>\n",
       "      <td>college</td>\n",
       "      <td>male</td>\n",
       "    </tr>\n",
       "    <tr>\n",
       "      <th>4</th>\n",
       "      <td>1</td>\n",
       "      <td>800</td>\n",
       "      <td>15</td>\n",
       "      <td>9/11/2016</td>\n",
       "      <td>9/25/2016</td>\n",
       "      <td>29</td>\n",
       "      <td>Bechalor</td>\n",
       "      <td>male</td>\n",
       "    </tr>\n",
       "  </tbody>\n",
       "</table>\n",
       "</div>"
      ],
      "text/plain": [
       "   loan_status  Principal  terms effective_date   due_date  age  \\\n",
       "0            1       1000     30       9/8/2016  10/7/2016   50   \n",
       "1            0        300      7       9/9/2016  9/15/2016   35   \n",
       "2            1       1000     30      9/10/2016  10/9/2016   43   \n",
       "3            1       1000     30      9/10/2016  10/9/2016   26   \n",
       "4            1        800     15      9/11/2016  9/25/2016   29   \n",
       "\n",
       "              education  Gender  \n",
       "0              Bechalor  female  \n",
       "1       Master or Above    male  \n",
       "2  High School or Below  female  \n",
       "3               college    male  \n",
       "4              Bechalor    male  "
      ]
     },
     "execution_count": 185,
     "metadata": {},
     "output_type": "execute_result"
    }
   ],
   "source": [
    "df_test.head()"
   ]
  },
  {
   "cell_type": "markdown",
   "metadata": {},
   "source": [
    "### Model_2 - Resampling data"
   ]
  },
  {
   "cell_type": "code",
   "execution_count": 186,
   "metadata": {},
   "outputs": [],
   "source": [
    "# Oversampling\n",
    "from imblearn.over_sampling import SMOTE"
   ]
  },
  {
   "cell_type": "code",
   "execution_count": 187,
   "metadata": {},
   "outputs": [],
   "source": [
    "sm = SMOTE()\n",
    "X_resample, y_resample = sm.fit_resample(X_train, y_train)"
   ]
  },
  {
   "cell_type": "code",
   "execution_count": 188,
   "metadata": {},
   "outputs": [
    {
     "data": {
      "text/plain": [
       "1    184\n",
       "0    184\n",
       "Name: loan_status, dtype: int64"
      ]
     },
     "execution_count": 188,
     "metadata": {},
     "output_type": "execute_result"
    }
   ],
   "source": [
    "y_resample.value_counts()"
   ]
  },
  {
   "cell_type": "code",
   "execution_count": 189,
   "metadata": {},
   "outputs": [
    {
     "data": {
      "text/plain": [
       "LogisticRegression(solver='liblinear')"
      ]
     },
     "execution_count": 189,
     "metadata": {},
     "output_type": "execute_result"
    }
   ],
   "source": [
    "model_2 = LogisticRegression(solver='liblinear')\n",
    "model_2.fit(X_resample, y_resample)"
   ]
  },
  {
   "cell_type": "code",
   "execution_count": 190,
   "metadata": {},
   "outputs": [
    {
     "name": "stdout",
     "output_type": "stream",
     "text": [
      "Training Score:\t 0.8016304347826086\n",
      "Test Score:\t 0.6057692307692307\n",
      "--- Confusion matrix:\n",
      " [[22  6]\n",
      " [35 41]]\n",
      "--- Classification report:\n",
      "               precision    recall  f1-score   support\n",
      "\n",
      "           0       0.39      0.79      0.52        28\n",
      "           1       0.87      0.54      0.67        76\n",
      "\n",
      "    accuracy                           0.61       104\n",
      "   macro avg       0.63      0.66      0.59       104\n",
      "weighted avg       0.74      0.61      0.63       104\n",
      "\n"
     ]
    },
    {
     "data": {
      "text/html": [
       "<div>\n",
       "<style scoped>\n",
       "    .dataframe tbody tr th:only-of-type {\n",
       "        vertical-align: middle;\n",
       "    }\n",
       "\n",
       "    .dataframe tbody tr th {\n",
       "        vertical-align: top;\n",
       "    }\n",
       "\n",
       "    .dataframe thead th {\n",
       "        text-align: right;\n",
       "    }\n",
       "</style>\n",
       "<table border=\"1\" class=\"dataframe\">\n",
       "  <thead>\n",
       "    <tr style=\"text-align: right;\">\n",
       "      <th></th>\n",
       "      <th>Accuracy Score</th>\n",
       "      <th>Recall PAIDOFF</th>\n",
       "      <th>Recall COLLECTION</th>\n",
       "      <th>Precision PAIDOFF</th>\n",
       "      <th>Precision COLLECTION</th>\n",
       "      <th>F1Score PAIDOFF</th>\n",
       "      <th>F1Score COLLECTION</th>\n",
       "    </tr>\n",
       "  </thead>\n",
       "  <tbody>\n",
       "    <tr>\n",
       "      <th>Resampling</th>\n",
       "      <td>0.605769</td>\n",
       "      <td>0.539474</td>\n",
       "      <td>0.785714</td>\n",
       "      <td>0.87234</td>\n",
       "      <td>0.385965</td>\n",
       "      <td>0.666667</td>\n",
       "      <td>0.517647</td>\n",
       "    </tr>\n",
       "  </tbody>\n",
       "</table>\n",
       "</div>"
      ],
      "text/plain": [
       "            Accuracy Score  Recall PAIDOFF  Recall COLLECTION  \\\n",
       "Resampling        0.605769        0.539474           0.785714   \n",
       "\n",
       "            Precision PAIDOFF  Precision COLLECTION  F1Score PAIDOFF  \\\n",
       "Resampling            0.87234              0.385965         0.666667   \n",
       "\n",
       "            F1Score COLLECTION  \n",
       "Resampling            0.517647  "
      ]
     },
     "execution_count": 190,
     "metadata": {},
     "output_type": "execute_result"
    }
   ],
   "source": [
    "# Model Evaluation\n",
    "result2 = model_evaluation_logit(model_2,  X_resample, y_resample, X_test, y_test,'Resampling')\n",
    "result2"
   ]
  },
  {
   "cell_type": "code",
   "execution_count": 191,
   "metadata": {},
   "outputs": [
    {
     "name": "stdout",
     "output_type": "stream",
     "text": [
      "[[12  2]\n",
      " [16 24]]\n",
      "              precision    recall  f1-score   support\n",
      "\n",
      "           0       0.43      0.86      0.57        14\n",
      "           1       0.92      0.60      0.73        40\n",
      "\n",
      "    accuracy                           0.67        54\n",
      "   macro avg       0.68      0.73      0.65        54\n",
      "weighted avg       0.79      0.67      0.69        54\n",
      "\n"
     ]
    }
   ],
   "source": [
    "#Đánh giá trên tập loan_test.csv\n",
    "yhat_test_now2 = model_2.predict(X_test_now)\n",
    "quick_evaluation(y_test_now,yhat_test_now2)"
   ]
  },
  {
   "cell_type": "markdown",
   "metadata": {},
   "source": [
    "### Nhận xét:     ** Model_2 **\n",
    "- Xác định các khoản vay trả đúng hạn ở mức khá (Paidoff) với precision cao\n",
    "- Xác định tốt các khoản vay xấu (Collection) với precision trung bình"
   ]
  },
  {
   "cell_type": "markdown",
   "metadata": {},
   "source": [
    "### Model_3 Resampling w/o 'age'"
   ]
  },
  {
   "cell_type": "code",
   "execution_count": 192,
   "metadata": {},
   "outputs": [],
   "source": [
    "X_3 = Feature.drop(['age'],axis=1)\n",
    "y_3 = y "
   ]
  },
  {
   "cell_type": "code",
   "execution_count": 193,
   "metadata": {},
   "outputs": [
    {
     "data": {
      "text/plain": [
       "1    260\n",
       "0     86\n",
       "Name: loan_status, dtype: int64"
      ]
     },
     "execution_count": 193,
     "metadata": {},
     "output_type": "execute_result"
    }
   ],
   "source": [
    "y_3.value_counts()"
   ]
  },
  {
   "cell_type": "code",
   "execution_count": 194,
   "metadata": {},
   "outputs": [],
   "source": [
    "# Split X_3, y_3 to train and test\n",
    "X_train3, X_test3, y_train3, y_test3 = train_test_split(X_3,y_3,test_size=0.3)"
   ]
  },
  {
   "cell_type": "code",
   "execution_count": 195,
   "metadata": {},
   "outputs": [],
   "source": [
    "sm3 = SMOTE()\n",
    "X_resample3, y_resample3 = sm.fit_resample(X_train3, y_train3)"
   ]
  },
  {
   "cell_type": "code",
   "execution_count": 196,
   "metadata": {},
   "outputs": [
    {
     "data": {
      "text/plain": [
       "1    182\n",
       "0    182\n",
       "Name: loan_status, dtype: int64"
      ]
     },
     "execution_count": 196,
     "metadata": {},
     "output_type": "execute_result"
    }
   ],
   "source": [
    "y_resample3.value_counts()"
   ]
  },
  {
   "cell_type": "code",
   "execution_count": 197,
   "metadata": {},
   "outputs": [
    {
     "data": {
      "text/plain": [
       "LogisticRegression(solver='liblinear')"
      ]
     },
     "execution_count": 197,
     "metadata": {},
     "output_type": "execute_result"
    }
   ],
   "source": [
    "model_3 = LogisticRegression(solver='liblinear')\n",
    "model_3.fit(X_resample3, y_resample3)"
   ]
  },
  {
   "cell_type": "code",
   "execution_count": 198,
   "metadata": {
    "scrolled": false
   },
   "outputs": [
    {
     "name": "stdout",
     "output_type": "stream",
     "text": [
      "Training Score:\t 0.7884615384615384\n",
      "Test Score:\t 0.6346153846153846\n",
      "--- Confusion matrix:\n",
      " [[22  4]\n",
      " [34 44]]\n",
      "--- Classification report:\n",
      "               precision    recall  f1-score   support\n",
      "\n",
      "           0       0.39      0.85      0.54        26\n",
      "           1       0.92      0.56      0.70        78\n",
      "\n",
      "    accuracy                           0.63       104\n",
      "   macro avg       0.65      0.71      0.62       104\n",
      "weighted avg       0.79      0.63      0.66       104\n",
      "\n"
     ]
    },
    {
     "data": {
      "text/html": [
       "<div>\n",
       "<style scoped>\n",
       "    .dataframe tbody tr th:only-of-type {\n",
       "        vertical-align: middle;\n",
       "    }\n",
       "\n",
       "    .dataframe tbody tr th {\n",
       "        vertical-align: top;\n",
       "    }\n",
       "\n",
       "    .dataframe thead th {\n",
       "        text-align: right;\n",
       "    }\n",
       "</style>\n",
       "<table border=\"1\" class=\"dataframe\">\n",
       "  <thead>\n",
       "    <tr style=\"text-align: right;\">\n",
       "      <th></th>\n",
       "      <th>Accuracy Score</th>\n",
       "      <th>Recall PAIDOFF</th>\n",
       "      <th>Recall COLLECTION</th>\n",
       "      <th>Precision PAIDOFF</th>\n",
       "      <th>Precision COLLECTION</th>\n",
       "      <th>F1Score PAIDOFF</th>\n",
       "      <th>F1Score COLLECTION</th>\n",
       "    </tr>\n",
       "  </thead>\n",
       "  <tbody>\n",
       "    <tr>\n",
       "      <th>Resampling w/o \"age\"</th>\n",
       "      <td>0.634615</td>\n",
       "      <td>0.564103</td>\n",
       "      <td>0.846154</td>\n",
       "      <td>0.916667</td>\n",
       "      <td>0.392857</td>\n",
       "      <td>0.698413</td>\n",
       "      <td>0.536585</td>\n",
       "    </tr>\n",
       "  </tbody>\n",
       "</table>\n",
       "</div>"
      ],
      "text/plain": [
       "                      Accuracy Score  Recall PAIDOFF  Recall COLLECTION  \\\n",
       "Resampling w/o \"age\"        0.634615        0.564103           0.846154   \n",
       "\n",
       "                      Precision PAIDOFF  Precision COLLECTION  \\\n",
       "Resampling w/o \"age\"           0.916667              0.392857   \n",
       "\n",
       "                      F1Score PAIDOFF  F1Score COLLECTION  \n",
       "Resampling w/o \"age\"         0.698413            0.536585  "
      ]
     },
     "execution_count": 198,
     "metadata": {},
     "output_type": "execute_result"
    }
   ],
   "source": [
    "# Model Evaluation\n",
    "result3 = model_evaluation_logit(model_3,  X_resample3, y_resample3, X_test3, y_test3,'Resampling w/o \"age\"')\n",
    "result3"
   ]
  },
  {
   "cell_type": "code",
   "execution_count": 199,
   "metadata": {},
   "outputs": [
    {
     "name": "stdout",
     "output_type": "stream",
     "text": [
      "[[10  4]\n",
      " [16 24]]\n",
      "              precision    recall  f1-score   support\n",
      "\n",
      "           0       0.38      0.71      0.50        14\n",
      "           1       0.86      0.60      0.71        40\n",
      "\n",
      "    accuracy                           0.63        54\n",
      "   macro avg       0.62      0.66      0.60        54\n",
      "weighted avg       0.73      0.63      0.65        54\n",
      "\n"
     ]
    }
   ],
   "source": [
    "#Đánh giá trên tập loan_test.csv\n",
    "yhat_test_now3 = model_3.predict(X_test_now.drop('age',axis=1))\n",
    "quick_evaluation(y_test_now,yhat_test_now3)"
   ]
  },
  {
   "cell_type": "markdown",
   "metadata": {},
   "source": [
    "### Nhận xét:     ** Model_3 **\n",
    "- Xác định các khoản vay trả đúng hạn ở mức khá (Paidoff) với precision cao\n",
    "- Xác định tốt các khoản vay xấu (Collection) với precision trung bình"
   ]
  },
  {
   "cell_type": "markdown",
   "metadata": {},
   "source": [
    "### Model_4 Resampling w/o 'Gender'"
   ]
  },
  {
   "cell_type": "code",
   "execution_count": 200,
   "metadata": {},
   "outputs": [],
   "source": [
    "X_4 = Feature.drop(['age','Gender'],axis=1)\n",
    "y_4 = y "
   ]
  },
  {
   "cell_type": "code",
   "execution_count": 201,
   "metadata": {},
   "outputs": [
    {
     "data": {
      "text/plain": [
       "1    260\n",
       "0     86\n",
       "Name: loan_status, dtype: int64"
      ]
     },
     "execution_count": 201,
     "metadata": {},
     "output_type": "execute_result"
    }
   ],
   "source": [
    "y_4.value_counts()"
   ]
  },
  {
   "cell_type": "code",
   "execution_count": 202,
   "metadata": {},
   "outputs": [],
   "source": [
    "# Split X_4, y_4 to train and test\n",
    "X_train4, X_test4, y_train4, y_test4 = train_test_split(X_4,y_4,test_size=0.3)"
   ]
  },
  {
   "cell_type": "code",
   "execution_count": 203,
   "metadata": {},
   "outputs": [],
   "source": [
    "sm4 = SMOTE()\n",
    "X_resample4, y_resample4 = sm.fit_resample(X_train4, y_train4)"
   ]
  },
  {
   "cell_type": "code",
   "execution_count": 204,
   "metadata": {},
   "outputs": [
    {
     "data": {
      "text/plain": [
       "1    186\n",
       "0    186\n",
       "Name: loan_status, dtype: int64"
      ]
     },
     "execution_count": 204,
     "metadata": {},
     "output_type": "execute_result"
    }
   ],
   "source": [
    "y_resample4.value_counts()"
   ]
  },
  {
   "cell_type": "code",
   "execution_count": 205,
   "metadata": {},
   "outputs": [
    {
     "data": {
      "text/plain": [
       "LogisticRegression(solver='liblinear')"
      ]
     },
     "execution_count": 205,
     "metadata": {},
     "output_type": "execute_result"
    }
   ],
   "source": [
    "model_4 = LogisticRegression(solver='liblinear')\n",
    "model_4.fit(X_resample4, y_resample4)"
   ]
  },
  {
   "cell_type": "code",
   "execution_count": 206,
   "metadata": {},
   "outputs": [
    {
     "name": "stdout",
     "output_type": "stream",
     "text": [
      "Training Score:\t 0.7311827956989247\n",
      "Test Score:\t 0.7019230769230769\n",
      "--- Confusion matrix:\n",
      " [[28  2]\n",
      " [29 45]]\n",
      "--- Classification report:\n",
      "               precision    recall  f1-score   support\n",
      "\n",
      "           0       0.49      0.93      0.64        30\n",
      "           1       0.96      0.61      0.74        74\n",
      "\n",
      "    accuracy                           0.70       104\n",
      "   macro avg       0.72      0.77      0.69       104\n",
      "weighted avg       0.82      0.70      0.71       104\n",
      "\n"
     ]
    },
    {
     "data": {
      "text/html": [
       "<div>\n",
       "<style scoped>\n",
       "    .dataframe tbody tr th:only-of-type {\n",
       "        vertical-align: middle;\n",
       "    }\n",
       "\n",
       "    .dataframe tbody tr th {\n",
       "        vertical-align: top;\n",
       "    }\n",
       "\n",
       "    .dataframe thead th {\n",
       "        text-align: right;\n",
       "    }\n",
       "</style>\n",
       "<table border=\"1\" class=\"dataframe\">\n",
       "  <thead>\n",
       "    <tr style=\"text-align: right;\">\n",
       "      <th></th>\n",
       "      <th>Accuracy Score</th>\n",
       "      <th>Recall PAIDOFF</th>\n",
       "      <th>Recall COLLECTION</th>\n",
       "      <th>Precision PAIDOFF</th>\n",
       "      <th>Precision COLLECTION</th>\n",
       "      <th>F1Score PAIDOFF</th>\n",
       "      <th>F1Score COLLECTION</th>\n",
       "    </tr>\n",
       "  </thead>\n",
       "  <tbody>\n",
       "    <tr>\n",
       "      <th>Resampling w/o \"Gender\",\"age\"</th>\n",
       "      <td>0.701923</td>\n",
       "      <td>0.608108</td>\n",
       "      <td>0.933333</td>\n",
       "      <td>0.957447</td>\n",
       "      <td>0.491228</td>\n",
       "      <td>0.743802</td>\n",
       "      <td>0.643678</td>\n",
       "    </tr>\n",
       "  </tbody>\n",
       "</table>\n",
       "</div>"
      ],
      "text/plain": [
       "                               Accuracy Score  Recall PAIDOFF  \\\n",
       "Resampling w/o \"Gender\",\"age\"        0.701923        0.608108   \n",
       "\n",
       "                               Recall COLLECTION  Precision PAIDOFF  \\\n",
       "Resampling w/o \"Gender\",\"age\"           0.933333           0.957447   \n",
       "\n",
       "                               Precision COLLECTION  F1Score PAIDOFF  \\\n",
       "Resampling w/o \"Gender\",\"age\"              0.491228         0.743802   \n",
       "\n",
       "                               F1Score COLLECTION  \n",
       "Resampling w/o \"Gender\",\"age\"            0.643678  "
      ]
     },
     "execution_count": 206,
     "metadata": {},
     "output_type": "execute_result"
    }
   ],
   "source": [
    "# Model Evaluation\n",
    "result4 = model_evaluation_logit(model_4,  X_resample4, y_resample4, X_test4, y_test4,'Resampling w/o \"Gender\",\"age\"')\n",
    "result4"
   ]
  },
  {
   "cell_type": "code",
   "execution_count": 207,
   "metadata": {},
   "outputs": [
    {
     "name": "stdout",
     "output_type": "stream",
     "text": [
      "[[13  1]\n",
      " [18 22]]\n",
      "              precision    recall  f1-score   support\n",
      "\n",
      "           0       0.42      0.93      0.58        14\n",
      "           1       0.96      0.55      0.70        40\n",
      "\n",
      "    accuracy                           0.65        54\n",
      "   macro avg       0.69      0.74      0.64        54\n",
      "weighted avg       0.82      0.65      0.67        54\n",
      "\n"
     ]
    }
   ],
   "source": [
    "#Đánh giá trên tập loan_test.csv\n",
    "yhat_test_now4 = model_4.predict(X_test_now.drop(['Gender','age'],axis=1))\n",
    "quick_evaluation(y_test_now,yhat_test_now4)"
   ]
  },
  {
   "cell_type": "markdown",
   "metadata": {},
   "source": [
    "### Nhận xét:     ** Model_4 **\n",
    "- Xác định các khoản vay trả đúng hạn ở mức khá (Paidoff) với precision cao\n",
    "- Xác định tốt các khoản vay xấu (Collection) với precision trung bình"
   ]
  },
  {
   "cell_type": "markdown",
   "metadata": {
    "id": "6PTybAW70c_k"
   },
   "source": [
    "# Report\n",
    "You should be able to report the accuracy of the built model using different evaluation metrics:"
   ]
  },
  {
   "cell_type": "markdown",
   "metadata": {
    "id": "uEcFYSPk0c_k"
   },
   "source": [
    "| Algorithm          | Accuracy Score | \n",
    "|--------------------|---------|\n",
    "| LogisticRegression | ?       | "
   ]
  },
  {
   "cell_type": "code",
   "execution_count": 208,
   "metadata": {},
   "outputs": [
    {
     "data": {
      "text/html": [
       "<div>\n",
       "<style scoped>\n",
       "    .dataframe tbody tr th:only-of-type {\n",
       "        vertical-align: middle;\n",
       "    }\n",
       "\n",
       "    .dataframe tbody tr th {\n",
       "        vertical-align: top;\n",
       "    }\n",
       "\n",
       "    .dataframe thead th {\n",
       "        text-align: right;\n",
       "    }\n",
       "</style>\n",
       "<table border=\"1\" class=\"dataframe\">\n",
       "  <thead>\n",
       "    <tr style=\"text-align: right;\">\n",
       "      <th></th>\n",
       "      <th>Accuracy Score</th>\n",
       "      <th>Recall PAIDOFF</th>\n",
       "      <th>Recall COLLECTION</th>\n",
       "      <th>Precision PAIDOFF</th>\n",
       "      <th>Precision COLLECTION</th>\n",
       "      <th>F1Score PAIDOFF</th>\n",
       "      <th>F1Score COLLECTION</th>\n",
       "    </tr>\n",
       "  </thead>\n",
       "  <tbody>\n",
       "    <tr>\n",
       "      <th>Selected Features</th>\n",
       "      <td>0.711538</td>\n",
       "      <td>0.894737</td>\n",
       "      <td>0.214286</td>\n",
       "      <td>0.755556</td>\n",
       "      <td>0.428571</td>\n",
       "      <td>0.819277</td>\n",
       "      <td>0.285714</td>\n",
       "    </tr>\n",
       "    <tr>\n",
       "      <th>Resampling</th>\n",
       "      <td>0.605769</td>\n",
       "      <td>0.539474</td>\n",
       "      <td>0.785714</td>\n",
       "      <td>0.872340</td>\n",
       "      <td>0.385965</td>\n",
       "      <td>0.666667</td>\n",
       "      <td>0.517647</td>\n",
       "    </tr>\n",
       "    <tr>\n",
       "      <th>Resampling w/o \"age\"</th>\n",
       "      <td>0.634615</td>\n",
       "      <td>0.564103</td>\n",
       "      <td>0.846154</td>\n",
       "      <td>0.916667</td>\n",
       "      <td>0.392857</td>\n",
       "      <td>0.698413</td>\n",
       "      <td>0.536585</td>\n",
       "    </tr>\n",
       "    <tr>\n",
       "      <th>Resampling w/o \"Gender\",\"age\"</th>\n",
       "      <td>0.701923</td>\n",
       "      <td>0.608108</td>\n",
       "      <td>0.933333</td>\n",
       "      <td>0.957447</td>\n",
       "      <td>0.491228</td>\n",
       "      <td>0.743802</td>\n",
       "      <td>0.643678</td>\n",
       "    </tr>\n",
       "  </tbody>\n",
       "</table>\n",
       "</div>"
      ],
      "text/plain": [
       "                               Accuracy Score  Recall PAIDOFF  \\\n",
       "Selected Features                    0.711538        0.894737   \n",
       "Resampling                           0.605769        0.539474   \n",
       "Resampling w/o \"age\"                 0.634615        0.564103   \n",
       "Resampling w/o \"Gender\",\"age\"        0.701923        0.608108   \n",
       "\n",
       "                               Recall COLLECTION  Precision PAIDOFF  \\\n",
       "Selected Features                       0.214286           0.755556   \n",
       "Resampling                              0.785714           0.872340   \n",
       "Resampling w/o \"age\"                    0.846154           0.916667   \n",
       "Resampling w/o \"Gender\",\"age\"           0.933333           0.957447   \n",
       "\n",
       "                               Precision COLLECTION  F1Score PAIDOFF  \\\n",
       "Selected Features                          0.428571         0.819277   \n",
       "Resampling                                 0.385965         0.666667   \n",
       "Resampling w/o \"age\"                       0.392857         0.698413   \n",
       "Resampling w/o \"Gender\",\"age\"              0.491228         0.743802   \n",
       "\n",
       "                               F1Score COLLECTION  \n",
       "Selected Features                        0.285714  \n",
       "Resampling                               0.517647  \n",
       "Resampling w/o \"age\"                     0.536585  \n",
       "Resampling w/o \"Gender\",\"age\"            0.643678  "
      ]
     },
     "execution_count": 208,
     "metadata": {},
     "output_type": "execute_result"
    }
   ],
   "source": [
    "report2 = pd.concat([result1, result2, result3, result4],axis=0)\n",
    "report2"
   ]
  },
  {
   "cell_type": "markdown",
   "metadata": {},
   "source": [
    "### Kết Luận:\n",
    "- Nếu mục tiêu đi xác định khoản vay trả đúng hẹn (Paidoff) thì chọn Model_1 (Selected Features) \n",
    "- Nếu mục tiêu đi xác định khoản vay xấu (Colletion) thì chọn 1 trong 3 Model_3 còn lại (có Resampling)"
   ]
  },
  {
   "cell_type": "markdown",
   "metadata": {
    "button": false,
    "id": "3IocHAR60c_k",
    "new_sheet": false,
    "run_control": {
     "read_only": false
    }
   },
   "source": [
    "<h3>Thanks for completing this project!</h3>\n",
    "\n",
    "<h4>Author:  <a href=\"https://ca.linkedin.com/in/saeedaghabozorgi\">Saeed Aghabozorgi</a></h4>\n",
    "<p><a href=\"https://ca.linkedin.com/in/saeedaghabozorgi\">Saeed Aghabozorgi</a>, PhD is a Data Scientist in IBM with a track record of developing enterprise level applications that substantially increases clients’ ability to turn data into actionable knowledge. He is a researcher in data mining field and expert in developing advanced analytic methods like machine learning and statistical modelling on large datasets.</p>\n",
    "<hr>\n",
    "<p>Copyright &copy; 2018 <a href=\"https://cocl.us/DX0108EN_CC\">Cognitive Class</a>. This notebook and its source code are released under the terms of the <a href=\"https://bigdatauniversity.com/mit-license/\">MIT License</a>.</p>"
   ]
  }
 ],
 "metadata": {
  "colab": {
   "collapsed_sections": [
    "_cM8_qqT0c_c",
    "zHpc6vqF0c_f",
    "-V99_fCr0c_g",
    "3lIRsZIi0c_g",
    "hf357vdN0c_j"
   ],
   "name": "FullName_Project_Loan_k262.ipynb",
   "provenance": []
  },
  "kernelspec": {
   "display_name": "Python 3",
   "language": "python",
   "name": "python3"
  },
  "language_info": {
   "codemirror_mode": {
    "name": "ipython",
    "version": 3
   },
   "file_extension": ".py",
   "mimetype": "text/x-python",
   "name": "python",
   "nbconvert_exporter": "python",
   "pygments_lexer": "ipython3",
   "version": "3.6.8"
  }
 },
 "nbformat": 4,
 "nbformat_minor": 1
}
